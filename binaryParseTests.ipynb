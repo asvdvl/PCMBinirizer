{
 "cells": [
  {
   "cell_type": "code",
   "execution_count": 1,
   "id": "eee589be-d27e-4432-9c38-cb98ae184438",
   "metadata": {},
   "outputs": [],
   "source": [
    "#math\n",
    "import numpy as np\n",
    "#utils\n",
    "from tqdm import tqdm\n",
    "import datetime\n",
    "import matplotlib.pyplot as plt\n",
    "from IPython.display import clear_output"
   ]
  },
  {
   "cell_type": "code",
   "execution_count": 2,
   "id": "b347feee-c796-4378-86d3-1c08bc218b97",
   "metadata": {},
   "outputs": [
    {
     "name": "stdout",
     "output_type": "stream",
     "text": [
      "2.9.2\n"
     ]
    }
   ],
   "source": [
    "#neural\n",
    "import tensorflow as tf\n",
    "import keras\n",
    "from tensorflow.python.client import device_lib\n",
    "from tensorflow.keras import layers\n",
    "print(tf.__version__)"
   ]
  },
  {
   "cell_type": "code",
   "execution_count": 3,
   "id": "c5377d3b-af4e-4e70-902a-ef3e0fd0c644",
   "metadata": {},
   "outputs": [
    {
     "name": "stderr",
     "output_type": "stream",
     "text": [
      "2022-10-20 15:45:03.718972: I tensorflow/core/platform/cpu_feature_guard.cc:193] This TensorFlow binary is optimized with oneAPI Deep Neural Network Library (oneDNN) to use the following CPU instructions in performance-critical operations:  AVX2 FMA\n",
      "To enable them in other operations, rebuild TensorFlow with the appropriate compiler flags.\n",
      "2022-10-20 15:45:04.410789: I tensorflow/core/common_runtime/gpu/gpu_device.cc:1532] Created device /job:localhost/replica:0/task:0/device:GPU:0 with 199 MB memory:  -> device: 0, name: NVIDIA GeForce GTX 1050, pci bus id: 0000:02:00.0, compute capability: 6.1\n"
     ]
    }
   ],
   "source": [
    "config = tf.compat.v1.ConfigProto()\n",
    "config.gpu_options.per_process_gpu_memory_fraction = 0.1layer\n",
    "session = tf.compat.v1.Session(config=config)"
   ]
  },
  {
   "cell_type": "code",
   "execution_count": 4,
   "id": "0a4f5fe7-8a61-462d-ab15-230c0b22e584",
   "metadata": {},
   "outputs": [],
   "source": [
    "physical_devices = tf.config.list_physical_devices('GPU')\n",
    "tf.config.experimental.set_memory_growth(physical_devices[0], True)"
   ]
  },
  {
   "cell_type": "code",
   "execution_count": 5,
   "id": "d06d3c62-c3e0-4f48-aac9-31e2f5c63028",
   "metadata": {},
   "outputs": [],
   "source": [
    "!rm -rf jff\n",
    "!mkdir jff"
   ]
  },
  {
   "cell_type": "code",
   "execution_count": 6,
   "id": "e6861ab7-cb6d-451b-ac39-33fab585ccd9",
   "metadata": {},
   "outputs": [
    {
     "data": {
      "text/plain": [
       "16384"
      ]
     },
     "execution_count": 6,
     "metadata": {},
     "output_type": "execute_result"
    }
   ],
   "source": [
    "bw = 14\n",
    "maxnum = 1<<bw\n",
    "maxnum"
   ]
  },
  {
   "cell_type": "code",
   "execution_count": 7,
   "id": "fef629ab-4a3c-47b5-a5db-6a8bee79cd05",
   "metadata": {},
   "outputs": [],
   "source": [
    "inp_arr = np.array([], dtype=np.int16)\n",
    "out_arr = np.arange(maxnum, dtype=np.int32)"
   ]
  },
  {
   "cell_type": "code",
   "execution_count": 8,
   "id": "1aa221e8-d004-4a42-be7d-3277d25eff8d",
   "metadata": {},
   "outputs": [],
   "source": [
    "for i in np.arange(1<<14):\n",
    "    inp_arr = np.append(inp_arr, np.array([list(np.binary_repr(i, width=14))], dtype=np.int16))"
   ]
  },
  {
   "cell_type": "code",
   "execution_count": 9,
   "id": "a8221602-83f5-4c70-ba23-0ef1f7984683",
   "metadata": {},
   "outputs": [
    {
     "data": {
      "text/plain": [
       "(229376,)"
      ]
     },
     "execution_count": 9,
     "metadata": {},
     "output_type": "execute_result"
    }
   ],
   "source": [
    "inp_arr.shape"
   ]
  },
  {
   "cell_type": "code",
   "execution_count": 10,
   "id": "194a564d-74ba-4f1a-8fdc-a27111cbf15e",
   "metadata": {},
   "outputs": [],
   "source": [
    "inp_arr = inp_arr.reshape(maxnum, bw)"
   ]
  },
  {
   "cell_type": "code",
   "execution_count": 11,
   "id": "b897085a-ee87-4a0f-a58a-e5c2b4c9e846",
   "metadata": {},
   "outputs": [],
   "source": [
    "out_arr = out_arr.reshape(maxnum, 1)"
   ]
  },
  {
   "cell_type": "code",
   "execution_count": 12,
   "id": "cb19f071-4197-4e0c-b043-7415a2ffffbf",
   "metadata": {},
   "outputs": [
    {
     "data": {
      "text/plain": [
       "(16384, 14)"
      ]
     },
     "execution_count": 12,
     "metadata": {},
     "output_type": "execute_result"
    }
   ],
   "source": [
    "inp_arr.shape"
   ]
  },
  {
   "cell_type": "code",
   "execution_count": 13,
   "id": "2e9adb60-35a5-4043-b669-ac448c2efcf3",
   "metadata": {},
   "outputs": [
    {
     "data": {
      "text/plain": [
       "(16384, 1)"
      ]
     },
     "execution_count": 13,
     "metadata": {},
     "output_type": "execute_result"
    }
   ],
   "source": [
    "out_arr.shape"
   ]
  },
  {
   "cell_type": "code",
   "execution_count": 15,
   "id": "c4277128-2d80-45c5-be4c-ad30ed5bc9de",
   "metadata": {},
   "outputs": [
    {
     "name": "stderr",
     "output_type": "stream",
     "text": [
      "2022-10-20 01:00:23.241233: I tensorflow/core/common_runtime/gpu/gpu_device.cc:1532] Created device /job:localhost/replica:0/task:0/device:GPU:0 with 799 MB memory:  -> device: 0, name: NVIDIA GeForce GTX 1050, pci bus id: 0000:02:00.0, compute capability: 6.1\n"
     ]
    }
   ],
   "source": [
    "dataset = tf.data.Dataset.from_tensor_slices((inp_arr, out_arr))"
   ]
  },
  {
   "cell_type": "code",
   "execution_count": 39,
   "id": "7095b351-97db-4a9e-bf4d-45eb16229860",
   "metadata": {},
   "outputs": [],
   "source": [
    "input = keras.Input(shape=(bw))"
   ]
  },
  {
   "cell_type": "code",
   "execution_count": 50,
   "id": "a4e14c5b-a545-413b-b440-29fdae384d5d",
   "metadata": {},
   "outputs": [],
   "source": [
    "x = tf.keras.layers.Reshape((1, bw))(input)\n",
    "x = tf.keras.layers.Conv1D(1, 1, activation='relu', name=f'conv1d')(x)"
   ]
  },
  {
   "cell_type": "code",
   "execution_count": 44,
   "id": "5aa8ec2a-c653-45b2-8c4f-eb0b64646de4",
   "metadata": {},
   "outputs": [
    {
     "data": {
      "text/plain": [
       "TensorShape([None, 1, 1])"
      ]
     },
     "execution_count": 44,
     "metadata": {},
     "output_type": "execute_result"
    }
   ],
   "source": [
    "x.node."
   ]
  },
  {
   "cell_type": "code",
   "execution_count": 45,
   "id": "73f7a826-0105-4a50-8ea6-54ea2059198c",
   "metadata": {},
   "outputs": [],
   "source": [
    "x = tf.keras.layers.Flatten(name='Flatten')(x)"
   ]
  },
  {
   "cell_type": "raw",
   "id": "2c8bad15-a3b4-4000-a413-96a9c221de92",
   "metadata": {},
   "source": [
    "x = tf.keras.layers.Dense(1, activation='relu', use_bias=False)(x)"
   ]
  },
  {
   "cell_type": "code",
   "execution_count": 46,
   "id": "d49df67f-e3e4-4676-8aab-dbe6d4fc8acf",
   "metadata": {},
   "outputs": [],
   "source": [
    "x = tf.keras.layers.Rescaling(out_arr.shape[0], name='normalize')(x)"
   ]
  },
  {
   "cell_type": "code",
   "execution_count": 47,
   "id": "a9419857-0118-4daf-b381-f0ee8dc48dcd",
   "metadata": {},
   "outputs": [
    {
     "name": "stdout",
     "output_type": "stream",
     "text": [
      "Model: \"model_2\"\n",
      "_________________________________________________________________\n",
      " Layer (type)                Output Shape              Param #   \n",
      "=================================================================\n",
      " input_3 (InputLayer)        [(None, 14)]              0         \n",
      "                                                                 \n",
      " reshape_7 (Reshape)         (None, 1, 14)             0         \n",
      "                                                                 \n",
      " conv1d (Conv1D)             (None, 1, 1)              15        \n",
      "                                                                 \n",
      " Flatten (Flatten)           (None, 1)                 0         \n",
      "                                                                 \n",
      " normalize (Rescaling)       (None, 1)                 0         \n",
      "                                                                 \n",
      "=================================================================\n",
      "Total params: 15\n",
      "Trainable params: 15\n",
      "Non-trainable params: 0\n",
      "_________________________________________________________________\n"
     ]
    }
   ],
   "source": [
    "model = keras.Model(input, x)\n",
    "model.summary()"
   ]
  },
  {
   "cell_type": "code",
   "execution_count": 49,
   "id": "a3c39eee-5eff-47b8-8209-e98f1847a796",
   "metadata": {},
   "outputs": [
    {
     "ename": "ValueError",
     "evalue": "You called `set_weights(weights)` on layer \"conv1d\" with a weight list of length 1, but the layer was expecting 2 weights. Provided weights: [array([0., 0., 0., 0., 0., 0., 0., 0., 0., 0., 0....",
     "output_type": "error",
     "traceback": [
      "\u001b[0;31m---------------------------------------------------------------------------\u001b[0m",
      "\u001b[0;31mValueError\u001b[0m                                Traceback (most recent call last)",
      "Cell \u001b[0;32mIn [49], line 1\u001b[0m\n\u001b[0;32m----> 1\u001b[0m model\u001b[38;5;241m.\u001b[39mget_layer(\u001b[38;5;124m'\u001b[39m\u001b[38;5;124mconv1d\u001b[39m\u001b[38;5;124m'\u001b[39m)\u001b[38;5;241m.\u001b[39mset_weights([np\u001b[38;5;241m.\u001b[39mzeros(\u001b[38;5;241m14\u001b[39m)])\n",
      "File \u001b[0;32m~/miniconda3/envs/tf/lib/python3.9/site-packages/keras/engine/base_layer.py:1624\u001b[0m, in \u001b[0;36mLayer.set_weights\u001b[0;34m(self, weights)\u001b[0m\n\u001b[1;32m   1621\u001b[0m     expected_num_weights \u001b[38;5;241m+\u001b[39m\u001b[38;5;241m=\u001b[39m \u001b[38;5;241m1\u001b[39m\n\u001b[1;32m   1623\u001b[0m \u001b[38;5;28;01mif\u001b[39;00m expected_num_weights \u001b[38;5;241m!=\u001b[39m \u001b[38;5;28mlen\u001b[39m(weights):\n\u001b[0;32m-> 1624\u001b[0m   \u001b[38;5;28;01mraise\u001b[39;00m \u001b[38;5;167;01mValueError\u001b[39;00m(\n\u001b[1;32m   1625\u001b[0m       \u001b[38;5;124m'\u001b[39m\u001b[38;5;124mYou called `set_weights(weights)` on layer \u001b[39m\u001b[38;5;124m\"\u001b[39m\u001b[38;5;132;01m%s\u001b[39;00m\u001b[38;5;124m\"\u001b[39m\u001b[38;5;124m \u001b[39m\u001b[38;5;124m'\u001b[39m\n\u001b[1;32m   1626\u001b[0m       \u001b[38;5;124m'\u001b[39m\u001b[38;5;124mwith a weight list of length \u001b[39m\u001b[38;5;132;01m%s\u001b[39;00m\u001b[38;5;124m, but the layer was \u001b[39m\u001b[38;5;124m'\u001b[39m\n\u001b[1;32m   1627\u001b[0m       \u001b[38;5;124m'\u001b[39m\u001b[38;5;124mexpecting \u001b[39m\u001b[38;5;132;01m%s\u001b[39;00m\u001b[38;5;124m weights. Provided weights: \u001b[39m\u001b[38;5;132;01m%s\u001b[39;00m\u001b[38;5;124m...\u001b[39m\u001b[38;5;124m'\u001b[39m \u001b[38;5;241m%\u001b[39m\n\u001b[1;32m   1628\u001b[0m       (\u001b[38;5;28mself\u001b[39m\u001b[38;5;241m.\u001b[39mname, \u001b[38;5;28mlen\u001b[39m(weights), expected_num_weights, \u001b[38;5;28mstr\u001b[39m(weights)[:\u001b[38;5;241m50\u001b[39m]))\n\u001b[1;32m   1630\u001b[0m weight_index \u001b[38;5;241m=\u001b[39m \u001b[38;5;241m0\u001b[39m\n\u001b[1;32m   1631\u001b[0m weight_value_tuples \u001b[38;5;241m=\u001b[39m []\n",
      "\u001b[0;31mValueError\u001b[0m: You called `set_weights(weights)` on layer \"conv1d\" with a weight list of length 1, but the layer was expecting 2 weights. Provided weights: [array([0., 0., 0., 0., 0., 0., 0., 0., 0., 0., 0...."
     ]
    }
   ],
   "source": [
    "model.get_layer('conv1d').set_weights([np.zeros(14)])"
   ]
  },
  {
   "cell_type": "code",
   "execution_count": 22,
   "id": "b8033bea-bd97-4581-bde5-b3521d130324",
   "metadata": {},
   "outputs": [],
   "source": [
    "model.compile(loss='mean_squared_error',\n",
    "              optimizer=tf.keras.optimizers.Adam(),\n",
    "              metrics=['binary_accuracy', 'mean_squared_error', 'MeanAbsolutePercentageError'])\n",
    "\n",
    "i=1"
   ]
  },
  {
   "cell_type": "code",
   "execution_count": 23,
   "id": "3349db53-59d8-4a5f-95e7-62c1f004d937",
   "metadata": {
    "tags": []
   },
   "outputs": [
    {
     "name": "stdout",
     "output_type": "stream",
     "text": [
      "Epoch 1/10\n",
      "1/1 [==============================] - 0s 53ms/step - loss: 12561367.0000 - binary_accuracy: 6.1035e-05 - mean_squared_error: 12561367.0000 - mean_absolute_percentage_error: 134773376.0000\n",
      "Epoch 2/10\n",
      "1/1 [==============================] - 0s 43ms/step - loss: 12442420.0000 - binary_accuracy: 6.1035e-05 - mean_squared_error: 12442420.0000 - mean_absolute_percentage_error: 134046528.0000\n",
      "Epoch 3/10\n",
      "1/1 [==============================] - 0s 44ms/step - loss: 12324793.0000 - binary_accuracy: 6.1035e-05 - mean_squared_error: 12324793.0000 - mean_absolute_percentage_error: 133323352.0000\n",
      "Epoch 4/10\n"
     ]
    },
    {
     "name": "stderr",
     "output_type": "stream",
     "text": [
      "\n",
      "KeyboardInterrupt\n",
      "\n"
     ]
    }
   ],
   "source": [
    "loss = 1\n",
    "while loss >= 0.001:\n",
    "    clear_output(wait=True)\n",
    "    fitHistory = model.fit(dataset.shuffle(100).batch(out_arr.shape[0]), epochs=10)\n",
    "    out = model.predict(inp_arr[:1000])\n",
    "    loss = fitHistory.history['loss'][0]\n",
    "    plt.plot(out_arr[:1000],out)\n",
    "    plt.title(f'loss: {loss} epoch: {i*10}')\n",
    "    plt.savefig(f'jff/{i}.png')\n",
    "    plt.close()\n",
    "    i+=1"
   ]
  },
  {
   "cell_type": "code",
   "execution_count": null,
   "id": "596d8f0e-6a71-4e74-8258-544fb726e109",
   "metadata": {},
   "outputs": [],
   "source": [
    "out = model.predict(inp_arr)"
   ]
  },
  {
   "cell_type": "code",
   "execution_count": null,
   "id": "1d2795df-4bf5-4515-b7d4-5f25faa6e045",
   "metadata": {},
   "outputs": [],
   "source": [
    "!ffmpeg -r 5 -i 'jff/%01d.png' -start_number 2 -i 'jff/%01d.png' -c:v libx264 -r 30 -pix_fmt yuv420p 'jff/output.mp4'"
   ]
  },
  {
   "cell_type": "code",
   "execution_count": null,
   "id": "eca844ad-dc57-454a-81a6-41efa1720608",
   "metadata": {},
   "outputs": [],
   "source": []
  }
 ],
 "metadata": {
  "kernelspec": {
   "display_name": "Python 3 (ipykernel)",
   "language": "python",
   "name": "python3"
  },
  "language_info": {
   "codemirror_mode": {
    "name": "ipython",
    "version": 3
   },
   "file_extension": ".py",
   "mimetype": "text/x-python",
   "name": "python",
   "nbconvert_exporter": "python",
   "pygments_lexer": "ipython3",
   "version": "3.9.13"
  }
 },
 "nbformat": 4,
 "nbformat_minor": 5
}
