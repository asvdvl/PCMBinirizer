{
 "cells": [
  {
   "cell_type": "code",
   "execution_count": 1,
   "id": "5c73a2bd-fef1-44ea-939e-ec1a73c63806",
   "metadata": {},
   "outputs": [],
   "source": [
    "import os\n",
    "import re\n",
    "from collections import deque\n",
    "import numpy as np\n",
    "import wave, struct\n",
    "from tqdm import tqdm"
   ]
  },
  {
   "cell_type": "code",
   "execution_count": 2,
   "id": "5a8e2127-c8db-4248-8031-b562e351cb83",
   "metadata": {},
   "outputs": [],
   "source": [
    "fileName = 'a'"
   ]
  },
  {
   "cell_type": "code",
   "execution_count": 3,
   "id": "ca190ff2-5e90-440d-952a-e58568098321",
   "metadata": {},
   "outputs": [],
   "source": [
    "fileInBin = open(\"out_bin_p.log\", \"rt\") \n",
    "\n",
    "lineBin = fileInBin.readline()"
   ]
  },
  {
   "cell_type": "code",
   "execution_count": 4,
   "id": "3edbd10f-1310-4411-9d60-b956d2df77ec",
   "metadata": {},
   "outputs": [],
   "source": [
    "def deinterlase(frame):\n",
    "    even_fields=frame[::2,:];\n",
    "    odd_fields=frame[1::2,:];\n",
    "    return np.concatenate((even_fields, odd_fields), axis=0)\n",
    "\n",
    "bufL0 = deque()\n",
    "bufR0 = deque()\n",
    "bufL1 = deque()\n",
    "bufR1 = deque()\n",
    "bufL2 = deque()\n",
    "emptyLine = np.zeros(14, dtype=bool)\n",
    "\n",
    "#kluge init queues\n",
    "for i in range((16*5)-1):\n",
    "    bufL0.append(emptyLine)\n",
    "\n",
    "for i in range((16*4)-1):\n",
    "    bufR0.append(emptyLine)\n",
    "\n",
    "for i in range((16*3)-1):\n",
    "    bufL1.append(emptyLine)\n",
    "\n",
    "for i in range((16*2)-1):\n",
    "    bufR1.append(emptyLine)\n",
    "    \n",
    "for i in range(16-1):\n",
    "    bufL2.append(emptyLine)\n",
    "\n",
    "def bitsToInt(bits):\n",
    "    a = 0\n",
    "    for i in range(0, len(bits)):\n",
    "        a = bits[i] | a << 1\n",
    "    return a\n",
    "    \n",
    "def deinterlive(block):\n",
    "    block = block[4:88]\n",
    "    \n",
    "    bufL0.append(block[:14])\n",
    "    bufR0.append(block[14:28])\n",
    "    bufL1.append(block[28:42])\n",
    "    bufR1.append(block[42:56])\n",
    "    bufL2.append(block[56:70])\n",
    "    \n",
    "    return bufL0.popleft(), bufR0.popleft(), bufL1.popleft(), bufR1.popleft(), bufL2.popleft(), block[70:84] #L0, R0, L1, R1, L2, R2"
   ]
  },
  {
   "cell_type": "code",
   "execution_count": 5,
   "id": "480c2b1a-878a-4bc8-b852-eb1917d94ecc",
   "metadata": {},
   "outputs": [
    {
     "name": "stderr",
     "output_type": "stream",
     "text": [
      "decoding:   0%|                                                                                  | 0/303750 [00:00<?, ?it/s]"
     ]
    }
   ],
   "source": [
    "bar = tqdm(total=486*625)\n",
    "bar.set_description(\"decoding\")\n",
    "\n",
    "file = wave.open(fileName + '.wav', mode='wb')\n",
    "file.setnchannels(2) \n",
    "file.setsampwidth(2)\n",
    "file.setframerate(44100.0)\n",
    "\n",
    "file.setframerate(44100)"
   ]
  },
  {
   "cell_type": "code",
   "execution_count": 6,
   "id": "ffcd1ea4-c874-41a9-a4f0-f53eb736a8a4",
   "metadata": {
    "scrolled": true,
    "tags": []
   },
   "outputs": [
    {
     "name": "stderr",
     "output_type": "stream",
     "text": [
      "decoding: : 306884it [01:24, 3632.09it/s]                                                                                   \n"
     ]
    }
   ],
   "source": [
    "def convertDataBlock(data):\n",
    "  data = list(data.replace('-', '1').replace('#', '0'))\n",
    "  data = [bool(int(numeric_string)) for numeric_string in data]\n",
    "  return data\n",
    "\n",
    "while lineBin:\n",
    "    bar.update(1)\n",
    "    typeLine=re.match('\\\"?\\[(V2D)\\]', lineBin)\n",
    "    if typeLine != None:\n",
    "        typeLine = typeLine.group(1)\n",
    "        if typeLine == 'V2D':\n",
    "            parse = re.match('.?\\[V2D\\].*F\\[(\\d+)\\].*L\\[(\\d+)\\].*\\[([#-]{137})\\].*(CRC OK|No PCM!|BD CRC!)', lineBin)\n",
    "            if parse and parse.group(3):\n",
    "                #compare frame with log output\n",
    "                                \n",
    "                if not parse.group(4) == 'No PCM!':\n",
    "                    L0, R0, L1, R1, L2, R2 = deinterlive(convertDataBlock(parse.group(3)))\n",
    "                    file.writeframes(struct.pack('<H', (bitsToInt(L0) << 2)))\n",
    "                    file.writeframes(struct.pack('<H', (bitsToInt(R0) << 2)))\n",
    "                    file.writeframes(struct.pack('<H', (bitsToInt(L1) << 2)))\n",
    "                    file.writeframes(struct.pack('<H', (bitsToInt(R1) << 2)))\n",
    "                    file.writeframes(struct.pack('<H', (bitsToInt(L2) << 2)))\n",
    "                    file.writeframes(struct.pack('<H', (bitsToInt(R2) << 2)))\n",
    "                    \n",
    "    lineBin = fileInBin.readline()\n",
    "\n",
    "bar.close()\n"
   ]
  },
  {
   "cell_type": "code",
   "execution_count": null,
   "id": "8ea2b228-c1a3-42f1-9fc1-e36652c71785",
   "metadata": {},
   "outputs": [],
   "source": []
  }
 ],
 "metadata": {
  "kernelspec": {
   "display_name": "Python 3 (ipykernel)",
   "language": "python",
   "name": "python3"
  },
  "language_info": {
   "codemirror_mode": {
    "name": "ipython",
    "version": 3
   },
   "file_extension": ".py",
   "mimetype": "text/x-python",
   "name": "python",
   "nbconvert_exporter": "python",
   "pygments_lexer": "ipython3",
   "version": "3.10.2"
  }
 },
 "nbformat": 4,
 "nbformat_minor": 5
}
