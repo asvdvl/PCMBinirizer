{
 "cells": [
  {
   "cell_type": "code",
   "execution_count": 1,
   "id": "cad3d0aa",
   "metadata": {},
   "outputs": [],
   "source": [
    "import cv2\n",
    "import os\n",
    "import re\n",
    "import numpy as np\n",
    "from tqdm import tqdm"
   ]
  },
  {
   "cell_type": "code",
   "execution_count": 2,
   "id": "fcf2e6ab",
   "metadata": {
    "tags": []
   },
   "outputs": [],
   "source": [
    "WIDTH = int(720)\n",
    "\n",
    "def normilizeFrame(frame):\n",
    "    frame = cv2.cvtColor(frame, cv2.COLOR_BGR2GRAY)\n",
    "    frame = cv2.resize(frame, (WIDTH, frame.shape[0]), interpolation=cv2.INTER_NEAREST)\n",
    "    return frame\n",
    "\n",
    "cap = cv2.VideoCapture('testfiles/999.avi')\n",
    "if (cap.isOpened()== False): \n",
    "  print(\"Error opening video stream or file\")\n",
    "\n",
    "ret, frame = cap.read()\n",
    "if not ret:\n",
    "    print('error reading frame')\n",
    "\n",
    "gray = normilizeFrame(frame)"
   ]
  },
  {
   "cell_type": "code",
   "execution_count": 3,
   "id": "c4045409",
   "metadata": {},
   "outputs": [
    {
     "name": "stdout",
     "output_type": "stream",
     "text": [
      "720.0\n",
      "625.0\n",
      "1.0\n",
      "751.0\n"
     ]
    }
   ],
   "source": [
    "height = cap.get(cv2.CAP_PROP_FRAME_HEIGHT)\n",
    "frameCount = cap.get(cv2.CAP_PROP_FRAME_COUNT)\n",
    "\n",
    "print(cap.get(cv2.CAP_PROP_FRAME_WIDTH))\n",
    "print(height)\n",
    "print(cap.get(cv2.CAP_PROP_POS_FRAMES))\n",
    "print(frameCount)"
   ]
  },
  {
   "cell_type": "code",
   "execution_count": 4,
   "id": "88a2363d-5360-4e7b-9cd4-6df08b8e947b",
   "metadata": {
    "tags": []
   },
   "outputs": [
    {
     "data": {
      "text/plain": [
       "True"
      ]
     },
     "execution_count": 4,
     "metadata": {},
     "output_type": "execute_result"
    }
   ],
   "source": [
    "vl = gray[20]\n",
    "vline = np.array([vl,vl,vl,vl,vl,vl,vl,vl,vl,vl,vl,vl,vl,vl,vl,vl,vl,vl,vl,vl,vl,vl,vl,vl,vl,vl,vl,vl,vl,vl,vl,vl,vl,vl,vl])\n",
    "\n",
    "cv2.imwrite(\"gray.png\", vline)"
   ]
  },
  {
   "cell_type": "code",
   "execution_count": 5,
   "id": "7e85a2fb",
   "metadata": {
    "tags": []
   },
   "outputs": [],
   "source": [
    "#fileIn = open(\"out_parse.log\", \"rt\") \n",
    "fileInBin = open(\"out_bin.log\", \"rt\") \n",
    "\n",
    "if os.path.exists(\"ignored.txt\"):\n",
    "  os.remove(\"ignored.txt\")\n",
    "\n",
    "fileIgnored = open(\"ignored.txt\", \"wt\")\n",
    "\n",
    "#line = fileIn.readline()\n",
    "lineBin = fileInBin.readline()\n"
   ]
  },
  {
   "cell_type": "code",
   "execution_count": 6,
   "id": "95d7dea1-bfb4-44d4-9705-4e7effca45ab",
   "metadata": {},
   "outputs": [],
   "source": [
    "#falses = np.zeros(16, dtype=bool)\n",
    "dictionary = []  #[frame, line]\n",
    "inputLines = []\n",
    "service = [] #[has pcm]\n",
    "binaryData = []\n",
    "#blockL0 = []\n",
    "#blockR0 = []\n",
    "#blockL1 = []\n",
    "#blockR1 = []\n",
    "#blockL2 = []\n",
    "#blockR2 = []"
   ]
  },
  {
   "cell_type": "code",
   "execution_count": 7,
   "id": "60d804f6-60d3-4bb3-a04d-f054bb8b2763",
   "metadata": {},
   "outputs": [
    {
     "name": "stderr",
     "output_type": "stream",
     "text": [
      "Parsing govnologs Phase 1:   0%|                                                                                                                                                                               | 0/469375.0 [00:00<?, ?it/s]"
     ]
    }
   ],
   "source": [
    "def convertDataBlock(data):\n",
    "    data = list(data.replace('#', '1').replace('-', '0'))\n",
    "    data = [bool(int(numeric_string)) for numeric_string in data]\n",
    "    \n",
    "    data = data[4:88]\n",
    "\n",
    "    return bitsToInt(data[:14]), bitsToInt(data[14:28]), bitsToInt(data[28:42]), bitsToInt(data[42:56]), bitsToInt(data[56:70]), bitsToInt(data[70:84]) #L0, R0, L1, R1, L2, R2\n",
    "\n",
    "bitsToInt = lambda ls: int(\"\".join([str(int(b)) for b in ls]), 2)\n",
    "\n",
    "bar = tqdm(total=height * frameCount)\n",
    "bar.set_description(\"Parsing govnologs Phase 1\")"
   ]
  },
  {
   "cell_type": "code",
   "execution_count": 9,
   "id": "d1db5826-c719-4764-8b95-e0a3f44e69c5",
   "metadata": {
    "tags": []
   },
   "outputs": [
    {
     "name": "stderr",
     "output_type": "stream",
     "text": [
      "Parsing govnologs Phase 1: : 941635it [00:48, 19612.49it/s]                                                                                                                                                                                 \n"
     ]
    }
   ],
   "source": [
    "while lineBin:\n",
    "    typeLine=re.match('\\\"?\\[(V2D)\\]', lineBin)\n",
    "    if typeLine != None:\n",
    "        typeLine = typeLine.group(1)\n",
    "        if typeLine == 'V2D':\n",
    "            bar.update(1)\n",
    "            parse = re.match('.?\\[V2D\\].*F\\[(\\d+)\\].*L\\[(\\d+)\\].*\\[([#-]{137})\\].*(CRC OK|No PCM!|BD CRC!)', lineBin)\n",
    "            if parse and parse.group(3):\n",
    "                framenum = int(parse.group(1))\n",
    "                linenum = int(parse.group(2))\n",
    "                currentCapPos = int(cap.get(cv2.CAP_PROP_POS_FRAMES))\n",
    "                bar.update(1)\n",
    "                \n",
    "                #compare frame with log output\n",
    "                if not framenum == currentCapPos:\n",
    "                    if framenum > currentCapPos:\n",
    "                        if cap.grab():\n",
    "                            ret, frame = cap.retrieve()\n",
    "                            \n",
    "                            if not ret:\n",
    "                                print('error reading frame')\n",
    "                                break\n",
    "                            \n",
    "                            if not framenum == cap.get(cv2.CAP_PROP_POS_FRAMES):\n",
    "                                print('WTF?! after read next frame number also not equals ' + str(framenum) + ' ' + str(currentCapPos))\n",
    "                                break\n",
    "                            \n",
    "                            gray = normilizeFrame(frame)\n",
    "                    else:\n",
    "                        print('AHTUNG!!! ' + str(framenum) + ' ' + str(currentCapPos))\n",
    "                        break\n",
    "                \n",
    "                dictionary.append([framenum, linenum])\n",
    "                inputLines.append(gray[linenum - 1])\n",
    "                binaryData.append(convertDataBlock(parse.group(3)))\n",
    "               \n",
    "                if parse.group(4) == 'No PCM!':\n",
    "                    service.append([False])\n",
    "                else:\n",
    "                    service.append([True])\n",
    "    lineBin = fileInBin.readline()\n",
    "cap.release()\n",
    "bar.close()"
   ]
  },
  {
   "cell_type": "code",
   "execution_count": 11,
   "id": "2c844149-4d88-4b36-9e7e-bea9be54f579",
   "metadata": {},
   "outputs": [
    {
     "name": "stderr",
     "output_type": "stream",
     "text": [
      "\n",
      "Save govnodata:  25%|██████████████████████████████████████████████▎                                                                                                                                          | 2/8 [00:18<00:56,  9.37s/it]\u001b[A\n",
      "\n",
      "Save govnodata:   0%|                                                                                                                                                                                                 | 0/3 [00:00<?, ?it/s]\u001b[A\n",
      "Save govnodata:  33%|█████████████████████████████████████████████████████████████▋                                                                                                                           | 1/3 [00:00<00:00,  2.06it/s]\u001b[A\n",
      "Save govnodata:  67%|███████████████████████████████████████████████████████████████████████████████████████████████████████████████████████████▎                                                             | 2/3 [00:00<00:00,  3.21it/s]\u001b[A\n",
      "Save govnodata: 100%|█████████████████████████████████████████████████████████████████████████████████████████████████████████████████████████████████████████████████████████████████████████████████████████| 3/3 [00:01<00:00,  1.85it/s]\u001b[A\n"
     ]
    }
   ],
   "source": [
    "bar = tqdm(total=3)\n",
    "bar.set_description(\"Save govnodata\")\n",
    "\n",
    "np.save('traindata/inputLines.npy', inputLines)\n",
    "bar.update(1)\n",
    "\n",
    "np.save('traindata/service.npy', service)\n",
    "bar.update(1)\n",
    "\n",
    "np.save('traindata/binaryData.npy', binaryData)\n",
    "bar.update(1)\n",
    "\n",
    "#np.save('traindata/blockL0.npy', blockL0)\n",
    "#bar.update(1)\n",
    "#\n",
    "#np.save('traindata/blockR0.npy', blockR0)\n",
    "#bar.update(1)\n",
    "#\n",
    "#np.save('traindata/blockL1.npy', blockL1)\n",
    "#bar.update(1)\n",
    "#\n",
    "#np.save('traindata/blockR1.npy', blockR1)\n",
    "#bar.update(1)\n",
    "#\n",
    "#np.save('traindata/blockL2.npy', blockL2)\n",
    "#bar.update(1)\n",
    "#\n",
    "#np.save('traindata/blockR2.npy', blockR2)\n",
    "#bar.update(1)\n",
    "bar.close()"
   ]
  },
  {
   "cell_type": "code",
   "execution_count": 12,
   "id": "d3bf91e8",
   "metadata": {
    "tags": []
   },
   "outputs": [],
   "source": [
    "cap.release()\n",
    "cv2.destroyAllWindows()"
   ]
  },
  {
   "cell_type": "code",
   "execution_count": null,
   "id": "a5b83253-9b2d-4ce2-817d-b66d2a3d068b",
   "metadata": {},
   "outputs": [],
   "source": []
  }
 ],
 "metadata": {
  "kernelspec": {
   "display_name": "Python 3 (ipykernel)",
   "language": "python",
   "name": "python3"
  },
  "language_info": {
   "codemirror_mode": {
    "name": "ipython",
    "version": 3
   },
   "file_extension": ".py",
   "mimetype": "text/x-python",
   "name": "python",
   "nbconvert_exporter": "python",
   "pygments_lexer": "ipython3",
   "version": "3.10.2"
  }
 },
 "nbformat": 4,
 "nbformat_minor": 5
}
