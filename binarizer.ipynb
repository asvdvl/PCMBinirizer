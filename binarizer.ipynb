{
 "cells": [
  {
   "cell_type": "code",
   "execution_count": 1,
   "metadata": {
    "tags": []
   },
   "outputs": [],
   "source": [
    "import numpy as np\n",
    "import tensorflow as tf\n",
    "from tensorflow import keras\n",
    "from tensorflow.keras import layers\n",
    "from tqdm import tqdm"
   ]
  },
  {
   "cell_type": "code",
   "execution_count": 2,
   "metadata": {},
   "outputs": [
    {
     "name": "stdout",
     "output_type": "stream",
     "text": [
      "[name: \"/device:CPU:0\"\n",
      "device_type: \"CPU\"\n",
      "memory_limit: 268435456\n",
      "locality {\n",
      "}\n",
      "incarnation: 6527453324932057282\n",
      "xla_global_id: -1\n",
      ", name: \"/device:GPU:0\"\n",
      "device_type: \"GPU\"\n",
      "memory_limit: 700186624\n",
      "locality {\n",
      "  bus_id: 1\n",
      "  links {\n",
      "  }\n",
      "}\n",
      "incarnation: 8630390327311795251\n",
      "physical_device_desc: \"device: 0, name: NVIDIA GeForce GTX 1050, pci bus id: 0000:02:00.0, compute capability: 6.1\"\n",
      "xla_global_id: 416903419\n",
      "]\n"
     ]
    },
    {
     "name": "stderr",
     "output_type": "stream",
     "text": [
      "2022-02-21 21:29:42.730856: I tensorflow/core/platform/cpu_feature_guard.cc:151] This TensorFlow binary is optimized with oneAPI Deep Neural Network Library (oneDNN) to use the following CPU instructions in performance-critical operations:  AVX2 FMA\n",
      "To enable them in other operations, rebuild TensorFlow with the appropriate compiler flags.\n",
      "2022-02-21 21:29:43.619275: I tensorflow/core/common_runtime/gpu/gpu_device.cc:1525] Created device /device:GPU:0 with 667 MB memory:  -> device: 0, name: NVIDIA GeForce GTX 1050, pci bus id: 0000:02:00.0, compute capability: 6.1\n"
     ]
    }
   ],
   "source": [
    "from tensorflow.python.client import device_lib\n",
    "print(device_lib.list_local_devices())"
   ]
  },
  {
   "cell_type": "code",
   "execution_count": 12,
   "metadata": {},
   "outputs": [
    {
     "name": "stderr",
     "output_type": "stream",
     "text": [
      "Raspakek data: 100%|██████████████████████████████████████████████████████████████████████████| 4/4 [00:02<00:00,  1.93it/s]\n"
     ]
    }
   ],
   "source": [
    "bar = tqdm(total=4)\n",
    "bar.set_description(\"Raspakek data\")\n",
    "\n",
    "inputLines = np.load('traindata/inputLines.npy')/256\n",
    "bar.update(1)\n",
    "\n",
    "service = np.load('traindata/service.npy')\n",
    "bar.update(1)\n",
    "\n",
    "binaryData = np.load('traindata/binaryData.npy')\n",
    "bar.update(1)\n",
    "\n",
    "#blockL0 = np.load('traindata/blockL0.npy')\n",
    "#bar.update(1)\n",
    "#\n",
    "#blockR0 = np.load('traindata/blockR0.npy')\n",
    "#bar.update(1)\n",
    "#\n",
    "#blockL1 = np.load('traindata/blockL1.npy')\n",
    "#bar.update(1)\n",
    "#\n",
    "#blockR1 = np.load('traindata/blockR1.npy')\n",
    "#bar.update(1)\n",
    "#\n",
    "#blockL2 = np.load('traindata/blockL2.npy')\n",
    "#bar.update(1)\n",
    "#\n",
    "#blockR2 = np.load('traindata/blockR2.npy')\n",
    "#bar.update(1)\n",
    "\n",
    "#target_data = {'service': service, 'blockL0': blockL0, 'blockR0':blockR0, 'blockL1':blockL1, 'blockR1':blockR1, 'blockL2':blockL2, 'blockR2':blockR2}\n",
    "target_data = {'service': service, 'binaryData':binaryData}\n",
    "bar.update(1)\n",
    "bar.close()"
   ]
  },
  {
   "cell_type": "code",
   "execution_count": 22,
   "metadata": {},
   "outputs": [],
   "source": [
    "#remove all data after 100000 pos\n",
    "if False:\n",
    "    remAftr = 100000\n",
    "    inputLines = inputLines[:remAftr]\n",
    "    service = service[:remAftr]\n",
    "    binaryData = binaryData[:remAftr]\n",
    "    #blockL0 = blockL0[:remAftr]\n",
    "    #blockR0 = blockR0[:remAftr]\n",
    "    #blockL1 = blockL1[:remAftr]\n",
    "    #blockR1 = blockR1[:remAftr]\n",
    "    #blockL2 = blockL2[:remAftr]\n",
    "    #blockR2 = blockR2[:remAftr]\n",
    "    target_data = {'service': service, 'binaryData':binaryData}"
   ]
  },
  {
   "cell_type": "code",
   "execution_count": 7,
   "metadata": {
    "scrolled": true,
    "tags": []
   },
   "outputs": [
    {
     "data": {
      "text/plain": [
       "(100000, 180)"
      ]
     },
     "execution_count": 7,
     "metadata": {},
     "output_type": "execute_result"
    }
   ],
   "source": [
    "inputLines.shape"
   ]
  },
  {
   "cell_type": "code",
   "execution_count": 8,
   "metadata": {
    "collapsed": true,
    "jupyter": {
     "outputs_hidden": true
    },
    "scrolled": true,
    "tags": []
   },
   "outputs": [
    {
     "data": {
      "text/plain": [
       "array([ True, False,  True, False, False,  True, False, False,  True,\n",
       "       False,  True, False, False, False, False,  True,  True, False,\n",
       "        True, False,  True, False, False,  True, False, False,  True,\n",
       "       False,  True, False,  True, False, False, False,  True, False,\n",
       "        True, False,  True,  True,  True,  True,  True, False,  True,\n",
       "       False, False, False,  True, False,  True,  True, False,  True,\n",
       "       False, False, False, False,  True, False,  True,  True, False,\n",
       "        True, False, False,  True, False, False,  True, False,  True,\n",
       "       False, False,  True, False, False, False, False, False, False,\n",
       "        True,  True, False,  True, False, False,  True,  True,  True,\n",
       "        True,  True,  True,  True,  True,  True,  True,  True,  True,\n",
       "        True, False,  True,  True,  True,  True,  True,  True, False,\n",
       "       False,  True, False, False, False, False,  True, False, False,\n",
       "       False,  True, False,  True, False,  True,  True, False, False,\n",
       "       False,  True, False,  True,  True, False, False,  True,  True,\n",
       "        True,  True])"
      ]
     },
     "execution_count": 8,
     "metadata": {},
     "output_type": "execute_result"
    }
   ],
   "source": [
    "binaryData[5151]"
   ]
  },
  {
   "cell_type": "code",
   "execution_count": 9,
   "metadata": {
    "collapsed": true,
    "jupyter": {
     "outputs_hidden": true
    },
    "tags": []
   },
   "outputs": [
    {
     "data": {
      "text/plain": [
       "array([ True, False])"
      ]
     },
     "execution_count": 9,
     "metadata": {},
     "output_type": "execute_result"
    }
   ],
   "source": [
    "service[5151]"
   ]
  },
  {
   "cell_type": "code",
   "execution_count": 1,
   "metadata": {},
   "outputs": [],
   "source": [
    "#model = keras.models.load_model(\"model\")"
   ]
  },
  {
   "cell_type": "code",
   "execution_count": 4,
   "metadata": {
    "tags": []
   },
   "outputs": [
    {
     "name": "stdout",
     "output_type": "stream",
     "text": [
      "Model: \"model\"\n",
      "__________________________________________________________________________________________________\n",
      " Layer (type)                   Output Shape         Param #     Connected to                     \n",
      "==================================================================================================\n",
      " input_2 (InputLayer)           [(None, 180)]        0           []                               \n",
      "                                                                                                  \n",
      " dense_2 (Dense)                (None, 137)          24797       ['input_2[0][0]']                \n",
      "                                                                                                  \n",
      " dense_3 (Dense)                (None, 137)          18906       ['dense_2[0][0]']                \n",
      "                                                                                                  \n",
      " service (Dense)                (None, 2)            276         ['dense_3[0][0]']                \n",
      "                                                                                                  \n",
      " binaryData (Dense)             (None, 137)          18906       ['dense_3[0][0]']                \n",
      "                                                                                                  \n",
      "==================================================================================================\n",
      "Total params: 62,885\n",
      "Trainable params: 62,885\n",
      "Non-trainable params: 0\n",
      "__________________________________________________________________________________________________\n"
     ]
    },
    {
     "data": {
      "image/png": "[encoded data removed]",
      "text/plain": [
       "<IPython.core.display.Image object>"
      ]
     },
     "execution_count": 4,
     "metadata": {},
     "output_type": "execute_result"
    }
   ],
   "source": [
    "input = keras.Input(180, )\n",
    "x = layers.Dense(137, activation='linear', use_bias=True, bias_initializer='zeros')(input)\n",
    "#x = layers.Dropout(0.1)(x)\n",
    "x = layers.Dense(137, activation='linear', use_bias=True, bias_initializer='zeros')(x)\n",
    "\n",
    "service = layers.Dense(2 , activation='sigmoid', name='service')(x)\n",
    "binaryData = layers.Dense(137 , activation='sigmoid', name='binaryData')(x)\n",
    "#blockL0 = layers.Dense(16, activation='sigmoid', use_bias=True, bias_initializer='zeros', name='blockL0')(x)\n",
    "#blockR0 = layers.Dense(16, activation='sigmoid', use_bias=True, bias_initializer='zeros', name='blockR0')(x)\n",
    "#blockL1 = layers.Dense(16, activation='sigmoid', use_bias=True, bias_initializer='zeros', name='blockL1')(x)\n",
    "#blockR1 = layers.Dense(16, activation='sigmoid', use_bias=True, bias_initializer='zeros', name='blockR1')(x)\n",
    "#blockL2 = layers.Dense(16, activation='sigmoid', use_bias=True, bias_initializer='zeros', name='blockL2')(x)\n",
    "#blockR2 = layers.Dense(16, activation='sigmoid', use_bias=True, bias_initializer='zeros', name='blockR2')(x)\n",
    "\n",
    "\n",
    "#model = keras.Model(input, [service, blockL0, blockR0, blockL1, blockR1, blockL2, blockR2])\n",
    "model = keras.Model(input, [service, binaryData])\n",
    "\n",
    "\n",
    "model.summary()\n",
    "\n",
    "tf.keras.utils.plot_model(\n",
    "    model,\n",
    "    to_file=\"model.png\",\n",
    "    show_shapes=True,\n",
    "    show_dtype=False,\n",
    "    show_layer_names=True,\n",
    "    rankdir=\"TB\",\n",
    "    expand_nested=True,\n",
    "    dpi=96,\n",
    "    layer_range=None,\n",
    "    show_layer_activations=True,\n",
    ")\n",
    "\n",
    "#visualizer(model, format='png', view=True)\n"
   ]
  },
  {
   "cell_type": "code",
   "execution_count": 19,
   "metadata": {
    "tags": []
   },
   "outputs": [],
   "source": [
    "\n",
    "model.compile(loss='mean_squared_error',\n",
    "              optimizer='adam',\n",
    "              metrics=['binary_accuracy'])\n"
   ]
  },
  {
   "cell_type": "code",
   "execution_count": 23,
   "metadata": {},
   "outputs": [
    {
     "name": "stdout",
     "output_type": "stream",
     "text": [
      "Epoch 1/3\n",
      "3125/3125 [==============================] - 10s 3ms/step - loss: 9.0952e-05 - service_loss: 5.1650e-07 - binaryData_loss: 9.0435e-05 - service_binary_accuracy: 1.0000 - binaryData_binary_accuracy: 0.9999\n",
      "Epoch 2/3\n",
      "3125/3125 [==============================] - 9s 3ms/step - loss: 9.6874e-05 - service_loss: 2.6955e-06 - binaryData_loss: 9.4179e-05 - service_binary_accuracy: 1.0000 - binaryData_binary_accuracy: 0.9999\n",
      "Epoch 3/3\n",
      "3125/3125 [==============================] - 9s 3ms/step - loss: 7.0738e-05 - service_loss: 1.1275e-06 - binaryData_loss: 6.9611e-05 - service_binary_accuracy: 1.0000 - binaryData_binary_accuracy: 0.9999\n"
     ]
    },
    {
     "data": {
      "text/plain": [
       "<keras.callbacks.History at 0x7f3ec038d1b0>"
      ]
     },
     "execution_count": 23,
     "metadata": {},
     "output_type": "execute_result"
    }
   ],
   "source": [
    "model.fit(inputLines, target_data, epochs=3)"
   ]
  },
  {
   "cell_type": "code",
   "execution_count": 24,
   "metadata": {},
   "outputs": [
    {
     "name": "stdout",
     "output_type": "stream",
     "text": [
      "INFO:tensorflow:Assets written to: model/assets\n"
     ]
    }
   ],
   "source": [
    "model.save(\"model\")"
   ]
  },
  {
   "cell_type": "code",
   "execution_count": 26,
   "metadata": {},
   "outputs": [
    {
     "name": "stdout",
     "output_type": "stream",
     "text": [
      "1/1 [==============================] - 0s 23ms/step\n",
      "[array([[1.0000000e+00, 1.0801579e-21]], dtype=float32), array([[1.00000000e+00, 1.92762745e-19, 1.00000000e+00, 4.28436828e-19,\n",
      "        1.11159402e-07, 2.68687960e-04, 3.31973268e-07, 9.99994636e-01,\n",
      "        2.12208779e-05, 1.56515147e-04, 9.99988317e-01, 9.99957442e-01,\n",
      "        6.46904591e-05, 9.99972105e-01, 9.99991655e-01, 9.99995232e-01,\n",
      "        1.00000000e+00, 1.80244422e-06, 1.34083839e-05, 1.12535747e-06,\n",
      "        9.99984264e-01, 8.25546635e-07, 9.39396341e-05, 4.46235708e-06,\n",
      "        1.03089917e-06, 6.01457828e-07, 4.10345956e-06, 9.99999404e-01,\n",
      "        9.99976516e-01, 9.99997735e-01, 4.80698918e-06, 9.99998212e-01,\n",
      "        2.07853282e-05, 3.72497965e-07, 1.39415888e-05, 9.99999404e-01,\n",
      "        5.62153730e-07, 9.99910355e-01, 9.99917746e-01, 1.12770488e-06,\n",
      "        5.61367187e-07, 9.99992728e-01, 9.99998450e-01, 9.99999166e-01,\n",
      "        3.68549968e-06, 9.99999762e-01, 1.12010239e-05, 3.86349768e-07,\n",
      "        9.43090527e-07, 1.82247182e-04, 2.41371413e-06, 1.25855166e-07,\n",
      "        3.71916883e-07, 1.01022545e-06, 3.02011176e-06, 2.38964230e-06,\n",
      "        6.19988157e-07, 4.24477585e-05, 1.07592850e-05, 8.01838667e-08,\n",
      "        1.33804351e-05, 5.03481351e-05, 4.37097697e-05, 7.22789218e-06,\n",
      "        9.19860270e-07, 2.23681051e-09, 2.30600364e-07, 2.52681784e-04,\n",
      "        8.52065386e-06, 1.66463758e-06, 1.14217346e-05, 2.60099887e-06,\n",
      "        3.20418508e-06, 1.38928535e-05, 2.60469233e-06, 3.78031255e-04,\n",
      "        2.90416174e-05, 4.18771549e-07, 8.54714926e-07, 1.35051723e-05,\n",
      "        1.79302115e-05, 9.82495081e-08, 2.73511114e-06, 9.89462642e-05,\n",
      "        1.67935980e-06, 5.66344133e-05, 1.74947999e-07, 4.37545680e-08,\n",
      "        2.61992081e-08, 3.26991312e-06, 5.82437606e-05, 3.65647992e-08,\n",
      "        3.80296046e-06, 1.70119747e-04, 5.65110822e-05, 1.68746174e-05,\n",
      "        2.06837717e-06, 3.17195418e-06, 1.29584876e-07, 9.39167967e-06,\n",
      "        3.29286995e-04, 5.42485213e-06, 5.18808633e-07, 3.90562178e-07,\n",
      "        1.04071230e-04, 3.59674488e-07, 1.86479994e-07, 6.65498737e-06,\n",
      "        7.15683427e-07, 1.63800632e-05, 9.04865519e-05, 5.04045829e-06,\n",
      "        6.06314961e-06, 8.13062343e-06, 6.89496602e-08, 1.52519797e-05,\n",
      "        5.45215407e-05, 9.99916792e-01, 9.99996424e-01, 1.25762460e-06,\n",
      "        9.99995947e-01, 3.33209982e-07, 3.93239634e-06, 9.99991536e-01,\n",
      "        9.99995470e-01, 3.97003333e-07, 4.71016356e-05, 6.40672282e-04,\n",
      "        5.79684820e-06, 2.80485459e-04, 9.99999642e-01, 9.99999881e-01,\n",
      "        2.57860569e-18, 1.00000000e+00, 1.00000000e+00, 1.00000000e+00,\n",
      "        1.00000000e+00]], dtype=float32)]\n"
     ]
    }
   ],
   "source": [
    "print(model.predict(np.array([inputLines[50]])))"
   ]
  },
  {
   "cell_type": "code",
   "execution_count": null,
   "metadata": {},
   "outputs": [],
   "source": []
  }
 ],
 "metadata": {
  "kernelspec": {
   "display_name": "Python 3 (ipykernel)",
   "language": "python",
   "name": "python3"
  },
  "language_info": {
   "codemirror_mode": {
    "name": "ipython",
    "version": 3
   },
   "file_extension": ".py",
   "mimetype": "text/x-python",
   "name": "python",
   "nbconvert_exporter": "python",
   "pygments_lexer": "ipython3",
   "version": "3.10.2"
  },
  "toc-autonumbering": true
 },
 "nbformat": 4,
 "nbformat_minor": 4
}
