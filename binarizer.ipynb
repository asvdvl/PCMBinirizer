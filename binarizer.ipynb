{
 "cells": [
  {
   "cell_type": "markdown",
   "metadata": {},
   "source": [
    "imports"
   ]
  },
  {
   "cell_type": "code",
   "execution_count": 1,
   "metadata": {
    "tags": []
   },
   "outputs": [],
   "source": [
    "import numpy as np\n",
    "import tensorflow as tf\n",
    "from tensorflow import keras\n",
    "from tensorflow.keras import layers\n",
    "from tqdm import tqdm"
   ]
  },
  {
   "cell_type": "markdown",
   "metadata": {},
   "source": [
    "system info"
   ]
  },
  {
   "cell_type": "code",
   "execution_count": 2,
   "metadata": {},
   "outputs": [
    {
     "name": "stdout",
     "output_type": "stream",
     "text": [
      "Sat Feb 26 02:51:47 2022       \n",
      "+-----------------------------------------------------------------------------+\n",
      "| NVIDIA-SMI 511.23       Driver Version: 511.23       CUDA Version: 11.6     |\n",
      "|-------------------------------+----------------------+----------------------+\n",
      "| GPU  Name            TCC/WDDM | Bus-Id        Disp.A | Volatile Uncorr. ECC |\n",
      "| Fan  Temp  Perf  Pwr:Usage/Cap|         Memory-Usage | GPU-Util  Compute M. |\n",
      "|                               |                      |               MIG M. |\n",
      "|===============================+======================+======================|\n",
      "|   0  NVIDIA GeForce ... WDDM  | 00000000:03:00.0 Off |                  N/A |\n",
      "| 41%   70C    P2    87W / 180W |   2595MiB /  8192MiB |     99%      Default |\n",
      "|                               |                      |                  N/A |\n",
      "+-------------------------------+----------------------+----------------------+\n",
      "|   1  NVIDIA GeForce ... WDDM  | 00000000:04:00.0 Off |                  N/A |\n",
      "| 30%   57C    P0    N/A /  65W |   1492MiB /  2048MiB |     99%      Default |\n",
      "|                               |                      |                  N/A |\n",
      "+-------------------------------+----------------------+----------------------+\n",
      "                                                                               \n",
      "+-----------------------------------------------------------------------------+\n",
      "| Processes:                                                                  |\n",
      "|  GPU   GI   CI        PID   Type   Process name                  GPU Memory |\n",
      "|        ID   ID                                                   Usage      |\n",
      "|=============================================================================|\n",
      "|    0   N/A  N/A      1240    C+G                                   N/A      |\n",
      "|    0   N/A  N/A      6152      C   ...WindowsTask\\AppModule.exe    N/A      |\n",
      "|    0   N/A  N/A      6320    C+G   ...y\\ShellExperienceHost.exe    N/A      |\n",
      "|    0   N/A  N/A      6528    C+G                                   N/A      |\n",
      "|    0   N/A  N/A      7556    C+G   C:\\Windows\\explorer.exe         N/A      |\n",
      "|    0   N/A  N/A      7728    C+G   ...es.TextInput.InputApp.exe    N/A      |\n",
      "|    0   N/A  N/A     10624    C+G                                   N/A      |\n",
      "|    0   N/A  N/A     12004    C+G   ...32\\CloudNotifications.exe    N/A      |\n",
      "|    1   N/A  N/A      6152      C   ...WindowsTask\\AppModule.exe    N/A      |\n",
      "|    1   N/A  N/A      6320    C+G   ...y\\ShellExperienceHost.exe    N/A      |\n",
      "|    1   N/A  N/A      7872    C+G                                   N/A      |\n",
      "+-----------------------------------------------------------------------------+\n"
     ]
    }
   ],
   "source": [
    "!nvidia-smi"
   ]
  },
  {
   "cell_type": "code",
   "execution_count": 3,
   "metadata": {},
   "outputs": [
    {
     "name": "stdout",
     "output_type": "stream",
     "text": [
      "[name: \"/device:CPU:0\"\n",
      "device_type: \"CPU\"\n",
      "memory_limit: 268435456\n",
      "locality {\n",
      "}\n",
      "incarnation: 3400765749523767564\n",
      "xla_global_id: -1\n",
      ", name: \"/device:GPU:0\"\n",
      "device_type: \"GPU\"\n",
      "memory_limit: 6475376230\n",
      "locality {\n",
      "  bus_id: 1\n",
      "  links {\n",
      "  }\n",
      "}\n",
      "incarnation: 3535329487689808079\n",
      "physical_device_desc: \"device: 0, name: NVIDIA GeForce GTX 1080, pci bus id: 0000:03:00.0, compute capability: 6.1\"\n",
      "xla_global_id: 416903419\n",
      "]\n"
     ]
    }
   ],
   "source": [
    "from tensorflow.python.client import device_lib\n",
    "print(device_lib.list_local_devices())"
   ]
  },
  {
   "cell_type": "markdown",
   "metadata": {},
   "source": [
    "import data"
   ]
  },
  {
   "cell_type": "code",
   "execution_count": 4,
   "metadata": {},
   "outputs": [
    {
     "name": "stderr",
     "output_type": "stream",
     "text": [
      "Raspakek data: 100%|██████████| 4/4 [00:02<00:00,  1.35it/s]\n"
     ]
    }
   ],
   "source": [
    "bar = tqdm(total=4)\n",
    "bar.set_description(\"Raspakek data\")\n",
    "\n",
    "inputLines = (np.load('traindata/inputLines.npy') / 255.0)\n",
    "bar.update(1)\n",
    "\n",
    "service = np.load('traindata/service.npy')\n",
    "bar.update(1)\n",
    "\n",
    "binaryData84 = np.load('traindata/binaryData84.npy')\n",
    "bar.update(1)\n",
    "\n",
    "#blockL0 = np.load('traindata/blockL0.npy')\n",
    "#bar.update(1)\n",
    "#\n",
    "#blockR0 = np.load('traindata/blockR0.npy')\n",
    "#bar.update(1)\n",
    "#\n",
    "#blockL1 = np.load('traindata/blockL1.npy')\n",
    "#bar.update(1)\n",
    "#\n",
    "#blockR1 = np.load('traindata/blockR1.npy')\n",
    "#bar.update(1)\n",
    "#\n",
    "#blockL2 = np.load('traindata/blockL2.npy')\n",
    "#bar.update(1)\n",
    "#\n",
    "#blockR2 = np.load('traindata/blockR2.npy')\n",
    "#bar.update(1)\n",
    "\n",
    "#target_data = {'service': service, 'blockL0': blockL0, 'blockR0':blockR0, 'blockL1':blockL1, 'blockR1':blockR1, 'blockL2':blockL2, 'blockR2':blockR2}\n",
    "target_data = {'service': service, 'binaryData84':binaryData84}\n",
    "bar.update(1)\n",
    "bar.close()"
   ]
  },
  {
   "cell_type": "code",
   "execution_count": 5,
   "metadata": {},
   "outputs": [],
   "source": [
    "#remove all data after 100000 pos\n",
    "if True:\n",
    "    remAftr = 100000\n",
    "    inputLines = inputLines[:remAftr]\n",
    "    service = service[:remAftr]\n",
    "    binaryData84 = binaryData84[:remAftr]\n",
    "    #blockL0 = blockL0[:remAftr]\n",
    "    #blockR0 = blockR0[:remAftr]\n",
    "    #blockL1 = blockL1[:remAftr]\n",
    "    #blockR1 = blockR1[:remAftr]\n",
    "    #blockL2 = blockL2[:remAftr]\n",
    "    #blockR2 = blockR2[:remAftr]\n",
    "    target_data = {'service': service, 'binaryData84':binaryData84}"
   ]
  },
  {
   "cell_type": "markdown",
   "metadata": {},
   "source": [
    "create/import model"
   ]
  },
  {
   "cell_type": "code",
   "execution_count": 6,
   "metadata": {
    "scrolled": true,
    "tags": []
   },
   "outputs": [
    {
     "name": "stdout",
     "output_type": "stream",
     "text": [
      "Model: \"model\"\n",
      "__________________________________________________________________________________________________\n",
      " Layer (type)                   Output Shape         Param #     Connected to                     \n",
      "==================================================================================================\n",
      " input (InputLayer)             [(None, 720)]        0           []                               \n",
      "                                                                                                  \n",
      " layer_1 (Dense)                (None, 128)          92288       ['input[0][0]']                  \n",
      "                                                                                                  \n",
      " layer_2 (Dense)                (None, 128)          16512       ['layer_1[0][0]']                \n",
      "                                                                                                  \n",
      " service (Dense)                (None, 1)            129         ['layer_2[0][0]']                \n",
      "                                                                                                  \n",
      " binaryData84 (Dense)           (None, 84)           10836       ['layer_2[0][0]']                \n",
      "                                                                                                  \n",
      "==================================================================================================\n",
      "Total params: 119,765\n",
      "Trainable params: 119,765\n",
      "Non-trainable params: 0\n",
      "__________________________________________________________________________________________________\n",
      "You must install pydot (`pip install pydot`) and install graphviz (see instructions at https://graphviz.gitlab.io/download/) for plot_model/model_to_dot to work.\n"
     ]
    }
   ],
   "source": [
    "input = keras.Input(720, None, name = 'input')\n",
    "x = layers.Dense(128, activation='sigmoid', use_bias=True, bias_initializer='zeros', name = 'layer_1')(input)\n",
    "#x = layers.Dropout(0.1)(x)\n",
    "x = layers.Dense(128, activation='sigmoid', use_bias=True, bias_initializer='zeros', name = 'layer_2')(x)\n",
    "\n",
    "service = layers.Dense(1, activation='sigmoid', name='service')(x)\n",
    "binaryData = layers.Dense(84, activation='sigmoid', name='binaryData84')(x)\n",
    "\n",
    "#blockL0 = layers.Dense(1, activation='linear', name='blockL0')(blockL0)\n",
    "#blockR0 = layers.Dense(1, activation='linear', name='blockR0')(blockR0)\n",
    "#blockL1 = layers.Dense(1, activation='linear', name='blockL1')(blockL1)\n",
    "#blockR1 = layers.Dense(1, activation='linear', name='blockR1')(blockR1)\n",
    "#blockL2 = layers.Dense(1, activation='linear', name='blockL2')(blockL2)\n",
    "#blockR2 = layers.Dense(1, activation='linear', name='blockR2')(blockR2)\n",
    "\n",
    "#model = keras.Model(input, [service, blockL0, blockR0, blockL1, blockR1, blockL2, blockR2])\n",
    "model = keras.Model(input, [service, binaryData])\n",
    "\n",
    "model.summary()\n",
    "\n",
    "tf.keras.utils.plot_model(\n",
    "    model,\n",
    "    to_file=\"model.png\",\n",
    "    show_shapes=True,\n",
    "    show_dtype=False,\n",
    "    show_layer_names=True,\n",
    "    rankdir=\"TB\",\n",
    "    expand_nested=True,\n",
    "    dpi=96,\n",
    "    layer_range=None,\n",
    "    show_layer_activations=True,\n",
    ")"
   ]
  },
  {
   "cell_type": "markdown",
   "metadata": {},
   "source": [
    "compile and learn"
   ]
  },
  {
   "cell_type": "code",
   "execution_count": 7,
   "metadata": {
    "tags": []
   },
   "outputs": [],
   "source": [
    "model.compile(loss='mean_squared_error',\n",
    "              optimizer='adam',\n",
    "              metrics=['binary_accuracy'])"
   ]
  },
  {
   "cell_type": "code",
   "execution_count": 17,
   "metadata": {
    "scrolled": true,
    "tags": []
   },
   "outputs": [
    {
     "name": "stdout",
     "output_type": "stream",
     "text": [
      "1407/1407 [==============================] - 38s 27ms/step - loss: 0.0043 - service_loss: 8.8564e-06 - binaryData84_loss: 0.0043 - service_binary_accuracy: 1.0000 - binaryData84_binary_accuracy: 0.9999 - val_loss: 0.0031 - val_service_loss: 2.9020e-06 - val_binaryData84_loss: 0.0031 - val_service_binary_accuracy: 1.0000 - val_binaryData84_binary_accuracy: 1.0000\n"
     ]
    }
   ],
   "source": [
    "loss = 1\n",
    "while loss >= 0.01:\n",
    "    fitHistory = model.fit(inputLines, target_data, epochs=1, batch_size=64, validation_split=0.1)\n",
    "    loss = fitHistory.history['loss'][0]"
   ]
  },
  {
   "cell_type": "markdown",
   "metadata": {},
   "source": [
    "add boolean convert to model"
   ]
  },
  {
   "cell_type": "code",
   "execution_count": 24,
   "metadata": {},
   "outputs": [
    {
     "name": "stdout",
     "output_type": "stream",
     "text": [
      "Model: \"model_3\"\n",
      "__________________________________________________________________________________________________\n",
      " Layer (type)                   Output Shape         Param #     Connected to                     \n",
      "==================================================================================================\n",
      " input (InputLayer)             [(None, 720)]        0           []                               \n",
      "                                                                                                  \n",
      " layer_1 (Dense)                (None, 128)          92288       ['input[0][0]']                  \n",
      "                                                                                                  \n",
      " layer_2 (Dense)                (None, 128)          16512       ['layer_1[0][0]']                \n",
      "                                                                                                  \n",
      " binaryData84 (Dense)           (None, 84)           10836       ['layer_2[0][0]']                \n",
      "                                                                                                  \n",
      " tf.math.round_2 (TFOpLambda)   (None, 84)           0           ['binaryData84[0][0]']           \n",
      "                                                                                                  \n",
      " service (Dense)                (None, 1)            129         ['layer_2[0][0]']                \n",
      "                                                                                                  \n",
      " binaryData (Dense)             (None, 6)            510         ['tf.math.round_2[0][0]']        \n",
      "                                                                                                  \n",
      "==================================================================================================\n",
      "Total params: 120,275\n",
      "Trainable params: 119,765\n",
      "Non-trainable params: 510\n",
      "__________________________________________________________________________________________________\n"
     ]
    }
   ],
   "source": [
    "#complete the model\n",
    "binaryData2 = layers.Dense(6, activation='linear', trainable = False, name='binaryData')(tf.round(binaryData))\n",
    "modelP2 = keras.Model(input, [service, binaryData2])\n",
    "\n",
    "modelP2.summary()"
   ]
  },
  {
   "cell_type": "code",
   "execution_count": 25,
   "metadata": {},
   "outputs": [],
   "source": [
    "for layer in model.layers:\n",
    "    for layerP2 in modelP2.layers:\n",
    "        if layer.name == layerP2.name:\n",
    "            layerP2.set_weights(layer.get_weights())\n",
    "            break"
   ]
  },
  {
   "cell_type": "markdown",
   "metadata": {},
   "source": [
    "config bits array to int layer"
   ]
  },
  {
   "cell_type": "code",
   "execution_count": 26,
   "metadata": {
    "tags": []
   },
   "outputs": [],
   "source": [
    "w = np.zeros(binaryData2.node.layer.get_weights()[0].shape[0]*6).reshape(binaryData2.node.layer.get_weights()[0].shape)\n",
    "bits = 14\n",
    "for j in range(0, 6):\n",
    "    for i in range(0, bits):\n",
    "        w[i+(j*14)][j] = 1 << (bits - i) - 1\n",
    "        \n",
    "binaryData2.node.layer.set_weights([w, binaryData2.node.layer.get_weights()[1]])"
   ]
  },
  {
   "cell_type": "code",
   "execution_count": 27,
   "metadata": {},
   "outputs": [],
   "source": [
    "modelP2.compile(loss='mean_squared_error',\n",
    "              optimizer='adam',\n",
    "              metrics=['binary_accuracy'])"
   ]
  },
  {
   "cell_type": "code",
   "execution_count": 28,
   "metadata": {},
   "outputs": [
    {
     "data": {
      "text/plain": [
       "<tf.Tensor: shape=(1, 84), dtype=float32, numpy=\n",
       "array([[1., 0., 1., 0., 0., 1., 0., 1., 0., 1., 0., 1., 0., 0., 1., 0.,\n",
       "        0., 1., 1., 0., 1., 0., 0., 0., 1., 0., 0., 1., 0., 1., 1., 0.,\n",
       "        0., 1., 0., 0., 0., 0., 0., 1., 1., 1., 0., 0., 0., 0., 0., 0.,\n",
       "        0., 0., 0., 0., 0., 0., 0., 0., 0., 0., 0., 0., 0., 0., 0., 0.,\n",
       "        0., 0., 0., 0., 0., 0., 0., 0., 0., 0., 0., 0., 0., 0., 0., 0.,\n",
       "        0., 0., 0., 0.]], dtype=float32)>"
      ]
     },
     "execution_count": 28,
     "metadata": {},
     "output_type": "execute_result"
    }
   ],
   "source": [
    "tf.round(model.predict(np.array([inputLines[50]]))[1])"
   ]
  },
  {
   "cell_type": "code",
   "execution_count": 29,
   "metadata": {},
   "outputs": [
    {
     "data": {
      "text/plain": [
       "[array([[0.9908153]], dtype=float32),\n",
       " array([[10580.,  9865.,  6407.,     0.,     0.,     0.]], dtype=float32)]"
      ]
     },
     "execution_count": 29,
     "metadata": {},
     "output_type": "execute_result"
    }
   ],
   "source": [
    "modelP2.predict(np.array([inputLines[50]]))"
   ]
  },
  {
   "cell_type": "markdown",
   "metadata": {},
   "source": [
    "save"
   ]
  },
  {
   "cell_type": "code",
   "execution_count": 30,
   "metadata": {},
   "outputs": [
    {
     "name": "stdout",
     "output_type": "stream",
     "text": [
      "INFO:tensorflow:Assets written to: model\\assets\n"
     ]
    }
   ],
   "source": [
    "modelP2.save(\"model\")"
   ]
  }
 ],
 "metadata": {
  "kernelspec": {
   "display_name": "Python 3 (ipykernel)",
   "language": "python",
   "name": "python3"
  },
  "language_info": {
   "codemirror_mode": {
    "name": "ipython",
    "version": 3
   },
   "file_extension": ".py",
   "mimetype": "text/x-python",
   "name": "python",
   "nbconvert_exporter": "python",
   "pygments_lexer": "ipython3",
   "version": "3.9.9"
  },
  "toc-autonumbering": true
 },
 "nbformat": 4,
 "nbformat_minor": 4
}
