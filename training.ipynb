{
 "cells": [
  {
   "cell_type": "markdown",
   "metadata": {},
   "source": [
    "imports\n",
    "-"
   ]
  },
  {
   "cell_type": "code",
   "execution_count": 1,
   "metadata": {
    "tags": []
   },
   "outputs": [
    {
     "data": {
      "text/plain": [
       "'3.9.13 (main, Aug 25 2022, 23:26:10) \\n[GCC 11.2.0]'"
      ]
     },
     "execution_count": 1,
     "metadata": {},
     "output_type": "execute_result"
    }
   ],
   "source": [
    "import sys, os\n",
    "sys.version"
   ]
  },
  {
   "cell_type": "code",
   "execution_count": 2,
   "metadata": {},
   "outputs": [],
   "source": [
    "#math\n",
    "import numpy as np\n",
    "#capture\n",
    "import cv2\n",
    "import wave\n",
    "#utils\n",
    "from tqdm import tqdm\n",
    "from IPython.display import Image\n",
    "import datetime\n",
    "from collections import deque\n",
    "import matplotlib.pyplot as plt"
   ]
  },
  {
   "cell_type": "raw",
   "metadata": {},
   "source": [
    "#disable CUDA devices\n",
    "os.environ[\"CUDA_VISIBLE_DEVICES\"] = \"-1\""
   ]
  },
  {
   "cell_type": "code",
   "execution_count": 3,
   "metadata": {},
   "outputs": [],
   "source": [
    "%load_ext tensorboard"
   ]
  },
  {
   "cell_type": "code",
   "execution_count": 4,
   "metadata": {},
   "outputs": [
    {
     "name": "stdout",
     "output_type": "stream",
     "text": [
      "2.9.2\n"
     ]
    }
   ],
   "source": [
    "#neural\n",
    "import tensorflow as tf\n",
    "import keras\n",
    "from tensorflow.python.client import device_lib\n",
    "from tensorflow.keras import layers\n",
    "print(tf.__version__)"
   ]
  },
  {
   "cell_type": "code",
   "execution_count": 5,
   "metadata": {},
   "outputs": [
    {
     "name": "stderr",
     "output_type": "stream",
     "text": [
      "2022-10-23 15:36:43.742994: I tensorflow/core/platform/cpu_feature_guard.cc:193] This TensorFlow binary is optimized with oneAPI Deep Neural Network Library (oneDNN) to use the following CPU instructions in performance-critical operations:  AVX2 FMA\n",
      "To enable them in other operations, rebuild TensorFlow with the appropriate compiler flags.\n",
      "2022-10-23 15:36:44.445380: I tensorflow/core/common_runtime/gpu/gpu_device.cc:1532] Created device /job:localhost/replica:0/task:0/device:GPU:0 with 599 MB memory:  -> device: 0, name: NVIDIA GeForce GTX 1050, pci bus id: 0000:02:00.0, compute capability: 6.1\n"
     ]
    }
   ],
   "source": [
    "config = tf.compat.v1.ConfigProto()\n",
    "config.gpu_options.per_process_gpu_memory_fraction = 0.3\n",
    "session = tf.compat.v1.Session(config=config)"
   ]
  },
  {
   "cell_type": "markdown",
   "metadata": {},
   "source": [
    "system info\n",
    "-"
   ]
  },
  {
   "cell_type": "raw",
   "metadata": {
    "tags": []
   },
   "source": [
    "!nvidia-smi"
   ]
  },
  {
   "cell_type": "code",
   "execution_count": 6,
   "metadata": {
    "tags": []
   },
   "outputs": [
    {
     "name": "stdout",
     "output_type": "stream",
     "text": [
      "CPU|/device:CPU:0 memory limit: 268435456\n",
      "\n",
      "GPU|/device:GPU:0 memory limit: 628693401\n",
      "device: 0, name: NVIDIA GeForce GTX 1050, pci bus id: 0000:02:00.0, compute capability: 6.1\n"
     ]
    },
    {
     "name": "stderr",
     "output_type": "stream",
     "text": [
      "2022-10-23 15:36:44.451357: I tensorflow/core/common_runtime/gpu/gpu_device.cc:1532] Created device /device:GPU:0 with 599 MB memory:  -> device: 0, name: NVIDIA GeForce GTX 1050, pci bus id: 0000:02:00.0, compute capability: 6.1\n"
     ]
    }
   ],
   "source": [
    "for i in device_lib.list_local_devices():\n",
    "    print(f'{i.device_type}|{i.name} memory limit: {i.memory_limit}')\n",
    "    print(i.physical_device_desc)"
   ]
  },
  {
   "cell_type": "markdown",
   "metadata": {
    "tags": []
   },
   "source": [
    "import data\n",
    "-"
   ]
  },
  {
   "cell_type": "code",
   "execution_count": 7,
   "metadata": {
    "tags": []
   },
   "outputs": [],
   "source": [
    "def reshape(frame):\n",
    "    global WIDTH, HEIGHT\n",
    "    newframe = np.zeros(WIDTH*HEIGHT).reshape(HEIGHT, WIDTH)\n",
    "    if frame.shape[0] == HEIGHT and frame.shape[1] == WIDTH:\n",
    "        return frame\n",
    "    elif frame.shape[0] <= HEIGHT and frame.shape[1] <= WIDTH:\n",
    "        newframe[:frame.shape[0],:frame.shape[1]] = frame\n",
    "    elif frame.shape[0] <= HEIGHT:\n",
    "        newframe[:frame.shape[0],:] = frame[:, :WIDTH]\n",
    "    elif frame.shape[1] <= WIDTH:\n",
    "        newframe[:,:frame.shape[1]] = frame[:HEIGHT, :]\n",
    "    else:\n",
    "        newframe = frame[:HEIGHT, :WIDTH]\n",
    "    return newframe\n",
    "\n",
    "def deinterlase(frame):\n",
    "    even_fields=frame[::2,:];\n",
    "    odd_fields=frame[1::2,:];\n",
    "    return even_fields, odd_fields"
   ]
  },
  {
   "cell_type": "code",
   "execution_count": 8,
   "metadata": {
    "tags": []
   },
   "outputs": [],
   "source": [
    "WIDTH = int(720)\n",
    "HEIGHT = int(625-1)\n",
    "\n",
    "def normilizeFrame(frame):\n",
    "    global WIDTH, HEIGHT\n",
    "    frame = cv2.cvtColor(frame, cv2.COLOR_BGR2GRAY)\n",
    "    \n",
    "    #change dimentions(choose 1 of 2 options)\n",
    "    #frame = cv2.resize(frame, (WIDTH, HEIGHT), interpolation=cv2.INTER_NEAREST)\n",
    "    frame = reshape(frame)\n",
    "    \n",
    "    return deinterlase(frame)\n",
    "    #return frame / 255.0\n",
    "\n",
    "def retrieve():\n",
    "    global WIDTH, HEIGHT\n",
    "    if cap.grab():\n",
    "        ret, frame = cap.retrieve()\n",
    "        if not ret:\n",
    "            print('error reading frame')\n",
    "            return False, normilizeFrame(np.zeros(WIDTH*HEIGHT).reshape(WIDTH, HEIGHT))\n",
    "        return True, normilizeFrame(frame)\n",
    "    else:\n",
    "        return False, normilizeFrame(np.zeros(WIDTH*HEIGHT).reshape(WIDTH, HEIGHT))\n",
    "\n",
    "def getNext():\n",
    "    global first, bottomFrame, half\n",
    "    if first == True:\n",
    "        first = False\n",
    "        half = False\n",
    "        ret, (topFrame, bottomFrame) = retrieve()\n",
    "        return ret, topFrame[np.newaxis is None,:,:]\n",
    "    \n",
    "    if half:\n",
    "        ret, (topFrame, bottomFrame) = retrieve()\n",
    "        half = False\n",
    "        return ret, topFrame[np.newaxis is None,:,:]\n",
    "    else:\n",
    "        half = True\n",
    "        return True, bottomFrame[np.newaxis is None,:,:]\n",
    "\n",
    "def openCap(file):\n",
    "    global cap, gray, half, first\n",
    "    first = True\n",
    "    cap = cv2.VideoCapture(file + '.avi')\n",
    "    if (cap.isOpened()== False): \n",
    "      print(\"Error opening video stream or file\")\n",
    "openCap('./dataset/video')"
   ]
  },
  {
   "cell_type": "code",
   "execution_count": 9,
   "metadata": {
    "tags": []
   },
   "outputs": [
    {
     "name": "stdout",
     "output_type": "stream",
     "text": [
      "1501\n",
      "882\n"
     ]
    }
   ],
   "source": [
    "frameCount = int(cap.get(cv2.CAP_PROP_FRAME_COUNT))\n",
    "\n",
    "print(frameCount)\n",
    "\n",
    "#tech calc\n",
    "\n",
    "#audio in pcm have 44100 samples in second per channel, respectively we have 88200 samples\n",
    "#per frame we have 44100/25(pal) = 1764 samples(for single channel)(and we take half of frame for learning /2)\n",
    "\n",
    "samplesPerFrame = int(44100/cap.get(cv2.CAP_PROP_FPS)/2)\n",
    "print(samplesPerFrame)"
   ]
  },
  {
   "cell_type": "markdown",
   "metadata": {},
   "source": [
    "create dataset"
   ]
  },
  {
   "cell_type": "code",
   "execution_count": 10,
   "metadata": {},
   "outputs": [],
   "source": [
    "dir = \"./dataset/\""
   ]
  },
  {
   "cell_type": "raw",
   "metadata": {
    "tags": []
   },
   "source": [
    "!rm -rf ./dataset\n",
    "!mkdir -p dataset\n",
    "!mkdir -p dataset/cache\n",
    "\n",
    "import shutil\n",
    "shutil.copyfile(fileName + '.avi', f'{dir}video.avi')\n",
    "shutil.copyfile(fileName + '.wav', f'{dir}audio.wav')"
   ]
  },
  {
   "cell_type": "code",
   "execution_count": 11,
   "metadata": {},
   "outputs": [],
   "source": [
    "def initQueues():\n",
    "    global bufR0, bufL1, bufR1, bufR2, bufL2\n",
    "    bufR0 = deque()\n",
    "    bufL1 = deque()\n",
    "    bufR1 = deque()\n",
    "    bufL2 = deque()\n",
    "    bufR2 = deque()\n",
    "    \n",
    "    for i in range(1*16):\n",
    "        bufR0.append(0)\n",
    "    \n",
    "    for i in range(2*16):\n",
    "        bufL1.append(0)\n",
    "    \n",
    "    for i in range(3*16):\n",
    "        bufR1.append(0)\n",
    "    \n",
    "    for i in range(4*16):\n",
    "        bufL2.append(0)\n",
    "    \n",
    "    for i in range(5*16):\n",
    "        bufR2.append(0)    \n",
    "        \n",
    "def pairwise(iterable):\n",
    "    a = iter(iterable)\n",
    "    if len(iterable) % 6 != 0:\n",
    "        print(f'input length detected that is not divisible by 6! all data after the {len(iterable)-(len(iterable) % 6)}({len(iterable) % 6} cells) position will be ignored.')\n",
    "    return zip(a, a, a, a, a, a)\n",
    "    \n",
    "def Abreacker(sample):\n",
    "    global bufR0, bufL1, bufR1, bufR2, bufL2\n",
    "    filtered = np.array([], dtype=np.uint16)\n",
    "    line = np.zeros(6, dtype=np.uint16)\n",
    "\n",
    "    for elem in pairwise(sample):\n",
    "        bufR0.append(elem[1])\n",
    "        bufL1.append(elem[2])\n",
    "        bufR1.append(elem[3])\n",
    "        bufL2.append(elem[4])\n",
    "        bufR2.append(elem[5])\n",
    "        \n",
    "        line[0] = elem[0]\n",
    "        line[1] = bufR0.popleft()\n",
    "        line[2] = bufL1.popleft()\n",
    "        line[3] = bufR1.popleft()\n",
    "        line[4] = bufL2.popleft()\n",
    "        line[5] = bufR2.popleft()\n",
    "                \n",
    "        filtered = np.append(filtered, line)\n",
    "    \n",
    "    return filtered"
   ]
  },
  {
   "cell_type": "code",
   "execution_count": 12,
   "metadata": {
    "tags": []
   },
   "outputs": [],
   "source": [
    "def initQueuesForDebreacker():\n",
    "    global bufL0D, bufR0D, bufL1D, bufR1D, bufL2D\n",
    "    bufL0D = deque()\n",
    "    bufR0D = deque()\n",
    "    bufL1D = deque()\n",
    "    bufR1D = deque()\n",
    "    bufL2D = deque()\n",
    "    \n",
    "    for i in range(5*16):\n",
    "        bufL0D.append(0)\n",
    "        \n",
    "    for i in range(4*16):\n",
    "        bufR0D.append(0)\n",
    "    \n",
    "    for i in range(3*16):\n",
    "        bufL1D.append(0)\n",
    "    \n",
    "    for i in range(2*16):\n",
    "        bufR1D.append(0)\n",
    "    \n",
    "    for i in range(1*16):\n",
    "        bufL2D.append(0)\n",
    "        \n",
    "def Adebreacker(sample):\n",
    "    global bufL0D, bufR0D, bufL1D, bufR1D, bufL2D\n",
    "    filtered = np.array([], dtype=np.uint16)\n",
    "    line = np.zeros(6, dtype=np.uint16)\n",
    "    \n",
    "    for elem in pairwise(sample):\n",
    "        bufL0D.append(elem[0])\n",
    "        bufR0D.append(elem[1])\n",
    "        bufL1D.append(elem[2])\n",
    "        bufR1D.append(elem[3])\n",
    "        bufL2D.append(elem[4])\n",
    "        \n",
    "        line[0] = bufL0D.popleft()\n",
    "        line[1] = bufR0D.popleft()\n",
    "        line[2] = bufL1D.popleft()\n",
    "        line[3] = bufR1D.popleft()\n",
    "        line[4] = bufL2D.popleft()\n",
    "        line[5] = elem[5]\n",
    "                \n",
    "        filtered = np.append(filtered, line)\n",
    "    \n",
    "    return filtered\n"
   ]
  },
  {
   "cell_type": "code",
   "execution_count": 13,
   "metadata": {
    "tags": []
   },
   "outputs": [
    {
     "name": "stderr",
     "output_type": "stream",
     "text": [
      "2022-10-23 15:36:44.514688: I tensorflow/core/common_runtime/gpu/gpu_device.cc:1532] Created device /job:localhost/replica:0/task:0/device:GPU:0 with 599 MB memory:  -> device: 0, name: NVIDIA GeForce GTX 1050, pci bus id: 0000:02:00.0, compute capability: 6.1\n"
     ]
    }
   ],
   "source": [
    "mainAudioFile = wave.open(f'{dir}audio.wav', mode='r')\n",
    "\n",
    "def gen():\n",
    "    global mainAudioFile, samplesPerFrame\n",
    "    \n",
    "    #audio\n",
    "    initQueues()\n",
    "    mainAudioFile.rewind()\n",
    "    \n",
    "    if not (mainAudioFile.getparams()[0] == 2 and mainAudioFile.getparams()[2] == 44100):\n",
    "        print('wrong audiofile params')\n",
    "        sys.exit(1)\n",
    "    \n",
    "    \n",
    "    #video\n",
    "    openCap(f'{dir}video')\n",
    "    frames = cap.get(cv2.CAP_PROP_FRAME_COUNT) -1\n",
    "    \n",
    "    \n",
    "    while int(cap.get(cv2.CAP_PROP_POS_FRAMES)) <= frames:\n",
    "        #audio\n",
    "        frame = mainAudioFile.readframes(samplesPerFrame)\n",
    "        \n",
    "        if len(frame) < samplesPerFrame*2:\n",
    "            frame = frame + b'\\x00' * ((samplesPerFrame*4)-len(frame))\n",
    "        \n",
    "        #video\n",
    "        vframe = getNext()[1]\n",
    "        \n",
    "        yield vframe, (Abreacker(tf.io.decode_raw(frame, tf.uint16, little_endian=True).numpy())/65535)\n",
    "\n",
    "        \n",
    "dataset=tf.data.Dataset.from_generator(\n",
    "    gen, \n",
    "    output_signature=(tf.TensorSpec(shape=(1, int(HEIGHT/2), WIDTH), dtype=tf.uint8, name='image'),\n",
    "                      tf.TensorSpec(shape=(samplesPerFrame*2,), dtype=tf.float32, name='audio'),\n",
    "                      #tf.TensorSpec(shape=(1), dtype=tf.int32, name='frameNum')\n",
    "                     )\n",
    ")#.cache('./dataset/')"
   ]
  },
  {
   "cell_type": "code",
   "execution_count": 14,
   "metadata": {},
   "outputs": [
    {
     "data": {
      "text/plain": [
       "0.9987335"
      ]
     },
     "execution_count": 14,
     "metadata": {},
     "output_type": "execute_result"
    }
   ],
   "source": [
    "list(dataset.take(1))[0][1].numpy().max()"
   ]
  },
  {
   "cell_type": "markdown",
   "metadata": {},
   "source": [
    "#create model\n",
    "-"
   ]
  },
  {
   "cell_type": "code",
   "execution_count": 15,
   "metadata": {},
   "outputs": [],
   "source": [
    "input = keras.Input(shape=(int(HEIGHT/2), WIDTH), name = 'image')"
   ]
  },
  {
   "cell_type": "code",
   "execution_count": 16,
   "metadata": {},
   "outputs": [
    {
     "name": "stdout",
     "output_type": "stream",
     "text": [
      "(None, 312, 360)\n",
      "(None, 312, 6, 8)\n",
      "diff total:11448\n"
     ]
    }
   ],
   "source": [
    "x = tf.keras.layers.Rescaling(1./255, name='normalize')(input)\n",
    "i = 1\n",
    "x = tf.keras.layers.Conv1D(360, 1, activation='sigmoid', name=f'conv1d_{i}')(x)\n",
    "#i +=1\n",
    "#x = tf.keras.layers.Conv1D(360, 1, activation='sigmoid', name=f'conv1d_{i}')(x)\n",
    "\n",
    "print(x.shape)\n",
    "\n",
    "x = tf.keras.layers.Reshape((x.shape[1], x.shape[2], 1))(x)\n",
    "#\n",
    "i = 1\n",
    "x = tf.keras.layers.Conv2D(8, (1, 4), strides=(1,2), activation='relu', name=f'conv2d_{i}')(x)\n",
    "i +=1\n",
    "x = tf.keras.layers.Conv2D(8, (1, 2), strides=(1,2), activation='relu', name=f'conv2d_{i}')(x)\n",
    "i +=1\n",
    "x = tf.keras.layers.Conv2D(8, (1, 14), strides=(1,14), activation='relu', name=f'conv2d_{i}')(x)\n",
    "#i +=1\n",
    "#x = tf.keras.layers.Conv2D(3, 32, activation='sigmoid', name=f'conv2d_{i}')(x)\n",
    "#\n",
    "print(x.shape)\n",
    "print(f'diff total:{x.shape[1]*x.shape[2]*x.shape[3]-(samplesPerFrame*4)}') "
   ]
  },
  {
   "cell_type": "code",
   "execution_count": 17,
   "metadata": {},
   "outputs": [],
   "source": [
    "x = tf.keras.layers.Flatten(name='Flatten')(x)"
   ]
  },
  {
   "cell_type": "code",
   "execution_count": 18,
   "metadata": {
    "tags": []
   },
   "outputs": [],
   "source": [
    "x = tf.keras.layers.Dense((samplesPerFrame*2), activation='relu', use_bias=True, name='audio')(x)"
   ]
  },
  {
   "cell_type": "code",
   "execution_count": 19,
   "metadata": {
    "tags": []
   },
   "outputs": [
    {
     "name": "stdout",
     "output_type": "stream",
     "text": [
      "Model: \"model\"\n",
      "_________________________________________________________________\n",
      " Layer (type)                Output Shape              Param #   \n",
      "=================================================================\n",
      " image (InputLayer)          [(None, 312, 720)]        0         \n",
      "                                                                 \n",
      " normalize (Rescaling)       (None, 312, 720)          0         \n",
      "                                                                 \n",
      " conv1d_1 (Conv1D)           (None, 312, 360)          259560    \n",
      "                                                                 \n",
      " reshape (Reshape)           (None, 312, 360, 1)       0         \n",
      "                                                                 \n",
      " conv2d_1 (Conv2D)           (None, 312, 179, 8)       40        \n",
      "                                                                 \n",
      " conv2d_2 (Conv2D)           (None, 312, 89, 8)        136       \n",
      "                                                                 \n",
      " conv2d_3 (Conv2D)           (None, 312, 6, 8)         904       \n",
      "                                                                 \n",
      " Flatten (Flatten)           (None, 14976)             0         \n",
      "                                                                 \n",
      " audio (Dense)               (None, 1764)              26419428  \n",
      "                                                                 \n",
      "=================================================================\n",
      "Total params: 26,680,068\n",
      "Trainable params: 26,680,068\n",
      "Non-trainable params: 0\n",
      "_________________________________________________________________\n"
     ]
    }
   ],
   "source": [
    "model = keras.Model(input, x)\n",
    "model.summary()\n",
    "\n",
    "#tf.keras.utils.plot_model(model, to_file=\"model.png\", show_shapes=True, show_dtype=False, show_layer_names=True, rankdir=\"TB\", expand_nested=True, dpi=96, layer_range=None, show_layer_activations=True)"
   ]
  },
  {
   "cell_type": "markdown",
   "metadata": {},
   "source": [
    "compile and learn\n",
    "-"
   ]
  },
  {
   "cell_type": "raw",
   "metadata": {
    "tags": []
   },
   "source": [
    "model.compile(loss='sparse_categorical_crossentropy',\n",
    "              optimizer='adam',\n",
    "              metrics=['accuracy'])"
   ]
  },
  {
   "cell_type": "code",
   "execution_count": 20,
   "metadata": {},
   "outputs": [],
   "source": [
    "model.compile(loss='mean_squared_error',\n",
    "              optimizer='adam',\n",
    "              metrics=['binary_accuracy', 'mean_squared_error', 'MeanAbsolutePercentageError'])\n",
    "loss = 1\n",
    "step = 0"
   ]
  },
  {
   "cell_type": "code",
   "execution_count": 21,
   "metadata": {},
   "outputs": [],
   "source": [
    "!rm -rf ./logs/ ./model/ ./output/\n",
    "!mkdir logs\n",
    "!mkdir model\n",
    "!mkdir output"
   ]
  },
  {
   "cell_type": "code",
   "execution_count": 22,
   "metadata": {},
   "outputs": [],
   "source": [
    "testfile = 'testfiles/pal/FROZTEN_-_Domestic_Technology'"
   ]
  },
  {
   "cell_type": "code",
   "execution_count": 23,
   "metadata": {},
   "outputs": [],
   "source": [
    "def predict():\n",
    "    global step, testfile, vframe, model, cap\n",
    "    initQueuesForDebreacker()\n",
    "    \n",
    "    openCap(testfile)\n",
    "    bar = tqdm(total=int(cap.get(cv2.CAP_PROP_FRAME_COUNT)*2), ncols=100)\n",
    "    file = wave.open(f'output/{step}.wav', mode='w')\n",
    "    file.setnchannels(2) \n",
    "    file.setsampwidth(2)\n",
    "    file.setframerate(44100)\n",
    "    ret, vframe = getNext()\n",
    "    frst = True\n",
    "    \n",
    "    while ret:\n",
    "        aframe = Adebreacker((model.predict(vframe, verbose=0, batch_size=64)[0]*65535).astype(np.uint16))\n",
    "        if frst:\n",
    "            frst = False\n",
    "            file.writeframes(aframe[480:].tobytes())\n",
    "        else:\n",
    "            file.writeframes(aframe.tobytes())\n",
    "        bar.update(1)\n",
    "        ret, vframe = getNext()\n",
    "        if int(cap.get(cv2.CAP_PROP_POS_FRAMES)) > 25*2*20:    #limiting on 20 seconds\n",
    "            ret = False\n",
    "    bar.close()\n",
    "    file.close()"
   ]
  },
  {
   "cell_type": "code",
   "execution_count": 24,
   "metadata": {},
   "outputs": [
    {
     "name": "stderr",
     "output_type": "stream",
     "text": [
      "  0%|                                                                      | 0/9874 [00:00<?, ?it/s]2022-10-23 15:36:46.113057: I tensorflow/stream_executor/cuda/cuda_dnn.cc:384] Loaded cuDNN version 8500\n",
      " 20%|███████████▉                                               | 2000/9874 [01:47<07:04, 18.56it/s]\n"
     ]
    }
   ],
   "source": [
    "predict()"
   ]
  },
  {
   "cell_type": "markdown",
   "metadata": {},
   "source": [
    "try to generate pcm frame(just for understanding)"
   ]
  },
  {
   "cell_type": "raw",
   "metadata": {},
   "source": [
    "a='./testfiles/pal/sin1k'\n",
    "openCap(a)\n",
    "_, img = getNext()\n",
    "cv2.imwrite('a.png', img[0])"
   ]
  },
  {
   "cell_type": "raw",
   "metadata": {},
   "source": [
    "fAudioFile = wave.open(f'./testfiles/pal/sin1k.wav', mode='r')\n",
    "b=fAudioFile.readframes(882*2)\n",
    "initQueues()\n",
    "c=Abreacker(np.right_shift(tf.io.decode_raw(b, tf.int16, little_endian=True).numpy(), 2))\n",
    "\n",
    "#np.binary_repr(c.min(), width=14)\n",
    "#np.binary_repr(c.max(), width=14)\n",
    "\n",
    "k = iter(c)\n",
    "zp = zip(k, k, k, k, k, k)\n",
    "frm = np.array([], dtype=np.uint8)\n",
    "\n",
    "for line in zp:\n",
    "    ln = np.array([], dtype=np.uint8)\n",
    "    for sampl in line:\n",
    "        ln = np.append(ln, np.repeat([list(np.binary_repr(sampl, width=14))], 5))\n",
    "    frm = np.append(frm, ln)"
   ]
  },
  {
   "cell_type": "raw",
   "metadata": {},
   "source": [
    "fram = frm.reshape(int(frm.shape[0]/420), 420).astype(np.uint8)\n",
    "fram *= 255\n",
    "cv2.imwrite('b.png', fram)"
   ]
  },
  {
   "cell_type": "code",
   "execution_count": 25,
   "metadata": {
    "tags": []
   },
   "outputs": [
    {
     "name": "stdout",
     "output_type": "stream",
     "text": [
      "Epoch 1/10\n",
      "   3000/Unknown - 78s 26ms/step - loss: 0.1439 - binary_accuracy: 6.1625e-05 - mean_squared_error: 0.1439 - mean_absolute_percentage_error: 8596.3789"
     ]
    },
    {
     "name": "stderr",
     "output_type": "stream",
     "text": [
      "2022-10-23 15:39:52.038299: W tensorflow/core/framework/cpu_allocator_impl.cc:82] Allocation of 6340239360 exceeds 10% of free system memory.\n"
     ]
    },
    {
     "name": "stdout",
     "output_type": "stream",
     "text": [
      "3001/3001 [==============================] - 83s 27ms/step - loss: 0.1440 - binary_accuracy: 1.1481e-04 - mean_squared_error: 0.1440 - mean_absolute_percentage_error: 168794.7188\n",
      "Epoch 2/10\n",
      "3001/3001 [==============================] - ETA: 0s - loss: 0.1028 - binary_accuracy: 3.4215e-04 - mean_squared_error: 0.1028 - mean_absolute_percentage_error: 90546.8828"
     ]
    },
    {
     "name": "stderr",
     "output_type": "stream",
     "text": [
      "2022-10-23 15:41:12.386301: W tensorflow/core/framework/cpu_allocator_impl.cc:82] Allocation of 6340239360 exceeds 10% of free system memory.\n"
     ]
    },
    {
     "name": "stdout",
     "output_type": "stream",
     "text": [
      "3001/3001 [==============================] - 79s 26ms/step - loss: 0.1028 - binary_accuracy: 3.4215e-04 - mean_squared_error: 0.1028 - mean_absolute_percentage_error: 90546.8828\n",
      "Epoch 3/10\n",
      "3000/3001 [============================>.] - ETA: 0s - loss: 0.0998 - binary_accuracy: 6.0878e-05 - mean_squared_error: 0.0998 - mean_absolute_percentage_error: 27039.0762"
     ]
    },
    {
     "name": "stderr",
     "output_type": "stream",
     "text": [
      "2022-10-23 15:42:32.096722: W tensorflow/core/framework/cpu_allocator_impl.cc:82] Allocation of 6340239360 exceeds 10% of free system memory.\n"
     ]
    },
    {
     "name": "stdout",
     "output_type": "stream",
     "text": [
      "3001/3001 [==============================] - 80s 27ms/step - loss: 0.0998 - binary_accuracy: 3.4630e-04 - mean_squared_error: 0.0998 - mean_absolute_percentage_error: 30247.6602\n",
      "Epoch 4/10\n",
      "3001/3001 [==============================] - ETA: 0s - loss: 0.0928 - binary_accuracy: 3.4048e-04 - mean_squared_error: 0.0928 - mean_absolute_percentage_error: 37695.3164"
     ]
    },
    {
     "name": "stderr",
     "output_type": "stream",
     "text": [
      "2022-10-23 15:43:52.110231: W tensorflow/core/framework/cpu_allocator_impl.cc:82] Allocation of 6340239360 exceeds 10% of free system memory.\n"
     ]
    },
    {
     "name": "stdout",
     "output_type": "stream",
     "text": [
      "3001/3001 [==============================] - 80s 27ms/step - loss: 0.0928 - binary_accuracy: 3.4048e-04 - mean_squared_error: 0.0928 - mean_absolute_percentage_error: 37695.3164\n",
      "Epoch 5/10\n",
      "3000/3001 [============================>.] - ETA: 0s - loss: 0.0926 - binary_accuracy: 5.9487e-05 - mean_squared_error: 0.0926 - mean_absolute_percentage_error: 28956.6797"
     ]
    },
    {
     "name": "stderr",
     "output_type": "stream",
     "text": [
      "2022-10-23 15:45:11.249330: W tensorflow/core/framework/cpu_allocator_impl.cc:82] Allocation of 6340239360 exceeds 10% of free system memory.\n"
     ]
    },
    {
     "name": "stdout",
     "output_type": "stream",
     "text": [
      "3001/3001 [==============================] - 79s 26ms/step - loss: 0.0927 - binary_accuracy: 3.4735e-04 - mean_squared_error: 0.0927 - mean_absolute_percentage_error: 166216.9062\n",
      "Epoch 6/10\n",
      "3001/3001 [==============================] - 78s 26ms/step - loss: 0.0924 - binary_accuracy: 3.4823e-04 - mean_squared_error: 0.0924 - mean_absolute_percentage_error: 165787.8906\n",
      "Epoch 7/10\n",
      "3001/3001 [==============================] - 79s 26ms/step - loss: 0.0923 - binary_accuracy: 3.4842e-04 - mean_squared_error: 0.0923 - mean_absolute_percentage_error: 74530.7422\n",
      "Epoch 8/10\n",
      "3001/3001 [==============================] - 80s 27ms/step - loss: 0.0906 - binary_accuracy: 3.4505e-04 - mean_squared_error: 0.0906 - mean_absolute_percentage_error: 26300.9121\n",
      "Epoch 9/10\n",
      "3001/3001 [==============================] - 80s 27ms/step - loss: 0.0895 - binary_accuracy: 3.4607e-04 - mean_squared_error: 0.0895 - mean_absolute_percentage_error: 30653.4785\n",
      "Epoch 10/10\n",
      "3001/3001 [==============================] - 80s 27ms/step - loss: 0.0892 - binary_accuracy: 3.4311e-04 - mean_squared_error: 0.0892 - mean_absolute_percentage_error: 159728.9062\n"
     ]
    },
    {
     "name": "stderr",
     "output_type": "stream",
     "text": [
      " 20%|███████████▉                                               | 2000/9874 [01:49<07:09, 18.31it/s]"
     ]
    },
    {
     "name": "stdout",
     "output_type": "stream",
     "text": [
      "Epoch 1/10\n"
     ]
    },
    {
     "name": "stderr",
     "output_type": "stream",
     "text": [
      "\n"
     ]
    },
    {
     "name": "stdout",
     "output_type": "stream",
     "text": [
      "   1214/Unknown - 32s 26ms/step - loss: 0.0887 - binary_accuracy: 1.2722e-04 - mean_squared_error: 0.0887 - mean_absolute_percentage_error: 60178.0352"
     ]
    },
    {
     "name": "stderr",
     "output_type": "stream",
     "text": [
      "\n",
      "KeyboardInterrupt\n",
      "\n"
     ]
    }
   ],
   "source": [
    "while loss >= 0.001:\n",
    "    step = step +1\n",
    "    log_dir = \"logs/fit/\" + datetime.datetime.now().strftime(\"%Y%m%d-%H%M%S\")\n",
    "    tensorboard_callback = tf.keras.callbacks.TensorBoard(log_dir=log_dir, histogram_freq=1)\n",
    "    fitHistory = model.fit(dataset, epochs=10, batch_size=32, callbacks=[tensorboard_callback])\n",
    "    model.save(f'model/{datetime.datetime.now().strftime(\"%Y%m%d-%H%M%S\")}', save_format=\"h5\")\n",
    "    \n",
    "    predict()\n",
    "    \n",
    "    loss = fitHistory.history['loss'][0]"
   ]
  },
  {
   "cell_type": "code",
   "execution_count": null,
   "metadata": {},
   "outputs": [],
   "source": [
    "%tensorboard --logdir logs/fit"
   ]
  },
  {
   "cell_type": "code",
   "execution_count": null,
   "metadata": {},
   "outputs": [],
   "source": []
  }
 ],
 "metadata": {
  "kernelspec": {
   "display_name": "Python 3 (ipykernel)",
   "language": "python",
   "name": "python3"
  },
  "language_info": {
   "codemirror_mode": {
    "name": "ipython",
    "version": 3
   },
   "file_extension": ".py",
   "mimetype": "text/x-python",
   "name": "python",
   "nbconvert_exporter": "python",
   "pygments_lexer": "ipython3",
   "version": "3.9.13"
  },
  "toc-autonumbering": true
 },
 "nbformat": 4,
 "nbformat_minor": 4
}
