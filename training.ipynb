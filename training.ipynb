{
 "cells": [
  {
   "cell_type": "markdown",
   "metadata": {},
   "source": [
    "imports\n",
    "-"
   ]
  },
  {
   "cell_type": "code",
   "execution_count": 1,
   "metadata": {
    "tags": []
   },
   "outputs": [
    {
     "data": {
      "text/plain": [
       "'3.9.16 (main, Mar  8 2023, 14:00:05) \\n[GCC 11.2.0]'"
      ]
     },
     "execution_count": 1,
     "metadata": {},
     "output_type": "execute_result"
    }
   ],
   "source": [
    "import sys, os\n",
    "sys.version"
   ]
  },
  {
   "cell_type": "code",
   "execution_count": 2,
   "metadata": {},
   "outputs": [],
   "source": [
    "#math\n",
    "import numpy as np\n",
    "#capture\n",
    "import cv2\n",
    "import wave\n",
    "#utils\n",
    "from tqdm import tqdm\n",
    "from IPython.display import Image\n",
    "from IPython.display import clear_output\n",
    "import datetime\n",
    "from collections import deque\n",
    "import matplotlib.pyplot as plt\n",
    "%matplotlib inline\n",
    "import time\n",
    "import humanize"
   ]
  },
  {
   "cell_type": "code",
   "execution_count": 3,
   "metadata": {
    "tags": []
   },
   "outputs": [],
   "source": [
    "os.environ[\"CUDA_VISIBLE_DEVICES\"] = \"0\""
   ]
  },
  {
   "cell_type": "raw",
   "metadata": {},
   "source": [
    "%load_ext tensorboard"
   ]
  },
  {
   "cell_type": "code",
   "execution_count": 4,
   "metadata": {},
   "outputs": [
    {
     "name": "stderr",
     "output_type": "stream",
     "text": [
      "2024-05-07 01:10:15.079547: I tensorflow/core/platform/cpu_feature_guard.cc:182] This TensorFlow binary is optimized to use available CPU instructions in performance-critical operations.\n",
      "To enable the following instructions: AVX2 FMA, in other operations, rebuild TensorFlow with the appropriate compiler flags.\n",
      "2024-05-07 01:10:16.028975: W tensorflow/compiler/tf2tensorrt/utils/py_utils.cc:38] TF-TRT Warning: Could not find TensorRT\n"
     ]
    },
    {
     "name": "stdout",
     "output_type": "stream",
     "text": [
      "2.12.0\n"
     ]
    }
   ],
   "source": [
    "#neural\n",
    "import tensorflow as tf\n",
    "import keras\n",
    "from tensorflow.python.client import device_lib\n",
    "from tensorflow.keras import layers\n",
    "print(tf.__version__)"
   ]
  },
  {
   "cell_type": "raw",
   "metadata": {},
   "source": [
    "config = tf.compat.v1.ConfigProto()\n",
    "config.gpu_options.per_process_gpu_memory_fraction = 0.3\n",
    "session = tf.compat.v1.Session(config=config)"
   ]
  },
  {
   "cell_type": "markdown",
   "metadata": {},
   "source": [
    "system info\n",
    "-"
   ]
  },
  {
   "cell_type": "raw",
   "metadata": {
    "tags": []
   },
   "source": [
    "!nvidia-smi"
   ]
  },
  {
   "cell_type": "code",
   "execution_count": 5,
   "metadata": {
    "tags": []
   },
   "outputs": [
    {
     "name": "stdout",
     "output_type": "stream",
     "text": [
      "CPU|/device:CPU:0 memory limit: 268.4 MB\n",
      "\n",
      "GPU|/device:GPU:0 memory limit: 11.3 GB\n",
      "device: 0, name: Tesla M40, pci bus id: 0000:03:00.0, compute capability: 5.2\n"
     ]
    },
    {
     "name": "stderr",
     "output_type": "stream",
     "text": [
      "2024-05-07 01:10:17.156149: I tensorflow/core/common_runtime/gpu/gpu_device.cc:1635] Created device /device:GPU:0 with 10821 MB memory:  -> device: 0, name: Tesla M40, pci bus id: 0000:03:00.0, compute capability: 5.2\n"
     ]
    }
   ],
   "source": [
    "for i in device_lib.list_local_devices():\n",
    "    print(f'{i.device_type}|{i.name} memory limit: {humanize.naturalsize(i.memory_limit)}')\n",
    "    print(i.physical_device_desc)"
   ]
  },
  {
   "cell_type": "markdown",
   "metadata": {
    "tags": []
   },
   "source": [
    "import data\n",
    "-"
   ]
  },
  {
   "cell_type": "code",
   "execution_count": 6,
   "metadata": {
    "tags": []
   },
   "outputs": [],
   "source": [
    "def reshape(frame):\n",
    "    global WIDTH, HEIGHT\n",
    "    newframe = np.zeros(WIDTH*HEIGHT).reshape(HEIGHT, WIDTH)\n",
    "    if frame.shape[0] == HEIGHT and frame.shape[1] == WIDTH:\n",
    "        return frame\n",
    "    elif frame.shape[0] <= HEIGHT and frame.shape[1] <= WIDTH:\n",
    "        newframe[:frame.shape[0],:frame.shape[1]] = frame\n",
    "    elif frame.shape[0] <= HEIGHT:\n",
    "        newframe[:frame.shape[0],:] = frame[:, :WIDTH]\n",
    "    elif frame.shape[1] <= WIDTH:\n",
    "        newframe[:,:frame.shape[1]] = frame[:HEIGHT, :]\n",
    "    else:\n",
    "        newframe = frame[:HEIGHT, :WIDTH]\n",
    "    return newframe\n",
    "\n",
    "def deinterlase(frame):\n",
    "    even_fields=frame[::2,:];\n",
    "    odd_fields=frame[1::2,:];\n",
    "    return even_fields, odd_fields"
   ]
  },
  {
   "cell_type": "code",
   "execution_count": 7,
   "metadata": {
    "tags": []
   },
   "outputs": [],
   "source": [
    "WIDTH = int(720)\n",
    "HEIGHT = int(625-1)\n",
    "\n",
    "def normilizeFrame(frame):\n",
    "    global WIDTH, HEIGHT\n",
    "    frame = cv2.cvtColor(frame, cv2.COLOR_BGR2GRAY)\n",
    "    \n",
    "    #change dimentions(choose 1 of 2 options)\n",
    "    #frame = cv2.resize(frame, (WIDTH, HEIGHT), interpolation=cv2.INTER_NEAREST)\n",
    "    frame = reshape(frame)\n",
    "    \n",
    "    return deinterlase(frame)\n",
    "    #return frame / 255.0\n",
    "\n",
    "def retrieve():\n",
    "    global WIDTH, HEIGHT\n",
    "    if cap.grab():\n",
    "        ret, frame = cap.retrieve()\n",
    "        if not ret:\n",
    "            print('error reading frame')\n",
    "            return False, normilizeFrame(np.zeros(WIDTH*HEIGHT).reshape(WIDTH, HEIGHT))\n",
    "        return True, normilizeFrame(frame)\n",
    "    else:\n",
    "        return False, normilizeFrame(np.zeros(WIDTH*HEIGHT).reshape(WIDTH, HEIGHT))\n",
    "\n",
    "def getNext():\n",
    "    ret, (topFrame, bottomFrame) = retrieve()\n",
    "    topFrame = topFrame[8:302,26:461]\n",
    "    bottomFrame = bottomFrame[8:302,26:461]\n",
    "    frm = np.append(topFrame, bottomFrame)\n",
    "    return ret, frm.reshape(2, topFrame.shape[0], topFrame.shape[1])\n",
    "\n",
    "def openCap(file = './dataset/video.avi'):\n",
    "    global cap, half, first\n",
    "    if not os.path.exists(file):\n",
    "        print(\"No file to open!\")\n",
    "        exit()\n",
    "    first = True\n",
    "    cap = cv2.VideoCapture(file)\n",
    "    if (cap.isOpened()== False): \n",
    "        print(\"Error opening video stream or file\")\n",
    "openCap()"
   ]
  },
  {
   "cell_type": "raw",
   "metadata": {},
   "source": [
    "a=getNext()[1]\n",
    "cv2.imwrite('out.png', a[0])\n",
    "cv2.imwrite('out1.png', a[1])"
   ]
  },
  {
   "cell_type": "markdown",
   "metadata": {
    "tags": []
   },
   "source": [
    "try to generate pcm frame(just for understanding)"
   ]
  },
  {
   "cell_type": "code",
   "execution_count": 8,
   "metadata": {
    "tags": []
   },
   "outputs": [
    {
     "name": "stdout",
     "output_type": "stream",
     "text": [
      "1501\n",
      "882\n"
     ]
    }
   ],
   "source": [
    "frameCount = int(cap.get(cv2.CAP_PROP_FRAME_COUNT))\n",
    "\n",
    "print(frameCount)\n",
    "\n",
    "#tech calc\n",
    "\n",
    "#audio in pcm have 44100 samples in second per channel, respectively we have 88200 samples\n",
    "#per frame we have 44100/25(pal) = 1764 samples(for single channel)(and we take half of frame for learning /2)\n",
    "\n",
    "samplesPerFrame = int(44100/cap.get(cv2.CAP_PROP_FPS)/2)\n",
    "print(samplesPerFrame)"
   ]
  },
  {
   "cell_type": "markdown",
   "metadata": {},
   "source": [
    "create dataset"
   ]
  },
  {
   "cell_type": "code",
   "execution_count": 9,
   "metadata": {},
   "outputs": [],
   "source": [
    "dir = \"./dataset/\""
   ]
  },
  {
   "cell_type": "raw",
   "metadata": {
    "tags": []
   },
   "source": [
    "!rm -rf ./dataset\n",
    "!mkdir -p dataset\n",
    "!mkdir -p dataset/cache\n",
    "\n",
    "import shutil\n",
    "shutil.copyfile(fileName + '.avi', f'{dir}video.avi')\n",
    "shutil.copyfile(fileName + '.wav', f'{dir}audio.wav')"
   ]
  },
  {
   "cell_type": "code",
   "execution_count": 10,
   "metadata": {
    "jupyter": {
     "source_hidden": true
    },
    "tags": []
   },
   "outputs": [],
   "source": [
    "def initQueues():\n",
    "    global bufR0, bufL1, bufR1, bufR2, bufL2\n",
    "    bufR0 = deque()\n",
    "    bufL1 = deque()\n",
    "    bufR1 = deque()\n",
    "    bufL2 = deque()\n",
    "    bufR2 = deque()\n",
    "    \n",
    "    for i in range(1*16):\n",
    "        bufR0.append(0)\n",
    "    \n",
    "    for i in range(2*16):\n",
    "        bufL1.append(0)\n",
    "    \n",
    "    for i in range(3*16):\n",
    "        bufR1.append(0)\n",
    "    \n",
    "    for i in range(4*16):\n",
    "        bufL2.append(0)\n",
    "    \n",
    "    for i in range(5*16):\n",
    "        bufR2.append(0)    \n",
    "        \n",
    "def pairwise(iterable):\n",
    "    a = iter(iterable)\n",
    "    if len(iterable) % 6 != 0:\n",
    "        print(f'input length detected that is not divisible by 6! all data after the {len(iterable)-(len(iterable) % 6)}({len(iterable) % 6} cells) position will be ignored.')\n",
    "    return zip(a, a, a, a, a, a)\n",
    "    \n",
    "def Abreacker(sample):\n",
    "    global bufR0, bufL1, bufR1, bufR2, bufL2\n",
    "    filtered = np.array([], dtype=np.uint16)\n",
    "    line = np.zeros(6, dtype=np.uint16)\n",
    "\n",
    "    for elem in pairwise(sample):\n",
    "        bufR0.append(elem[1])\n",
    "        bufL1.append(elem[2])\n",
    "        bufR1.append(elem[3])\n",
    "        bufL2.append(elem[4])\n",
    "        bufR2.append(elem[5])\n",
    "        \n",
    "        line[0] = elem[0]\n",
    "        line[1] = bufR0.popleft()\n",
    "        line[2] = bufL1.popleft()\n",
    "        line[3] = bufR1.popleft()\n",
    "        line[4] = bufL2.popleft()\n",
    "        line[5] = bufR2.popleft()\n",
    "                \n",
    "        filtered = np.append(filtered, line)\n",
    "    \n",
    "    return filtered"
   ]
  },
  {
   "cell_type": "code",
   "execution_count": 11,
   "metadata": {
    "jupyter": {
     "source_hidden": true
    },
    "tags": []
   },
   "outputs": [],
   "source": [
    "def initQueuesForDebreacker():\n",
    "    global bufL0D, bufR0D, bufL1D, bufR1D, bufL2D\n",
    "    bufL0D = deque()\n",
    "    bufR0D = deque()\n",
    "    bufL1D = deque()\n",
    "    bufR1D = deque()\n",
    "    bufL2D = deque()\n",
    "    \n",
    "    for i in range(5*16):\n",
    "        bufL0D.append(0)\n",
    "        \n",
    "    for i in range(4*16):\n",
    "        bufR0D.append(0)\n",
    "    \n",
    "    for i in range(3*16):\n",
    "        bufL1D.append(0)\n",
    "    \n",
    "    for i in range(2*16):\n",
    "        bufR1D.append(0)\n",
    "    \n",
    "    for i in range(1*16):\n",
    "        bufL2D.append(0)\n",
    "        \n",
    "def Adebreacker(sample):\n",
    "    global bufL0D, bufR0D, bufL1D, bufR1D, bufL2D\n",
    "    filtered = np.array([], dtype=np.uint16)\n",
    "    line = np.zeros(6, dtype=np.uint16)\n",
    "    \n",
    "    for elem in pairwise(sample):\n",
    "        bufL0D.append(elem[0])\n",
    "        bufR0D.append(elem[1])\n",
    "        bufL1D.append(elem[2])\n",
    "        bufR1D.append(elem[3])\n",
    "        bufL2D.append(elem[4])\n",
    "        \n",
    "        line[0] = bufL0D.popleft()\n",
    "        line[1] = bufR0D.popleft()\n",
    "        line[2] = bufL1D.popleft()\n",
    "        line[3] = bufR1D.popleft()\n",
    "        line[4] = bufL2D.popleft()\n",
    "        line[5] = elem[5]\n",
    "                \n",
    "        filtered = np.append(filtered, line)\n",
    "    \n",
    "    return filtered\n"
   ]
  },
  {
   "cell_type": "code",
   "execution_count": 12,
   "metadata": {
    "tags": []
   },
   "outputs": [
    {
     "name": "stderr",
     "output_type": "stream",
     "text": [
      "2024-05-07 01:10:17.242430: I tensorflow/core/common_runtime/gpu/gpu_device.cc:1635] Created device /job:localhost/replica:0/task:0/device:GPU:0 with 10821 MB memory:  -> device: 0, name: Tesla M40, pci bus id: 0000:03:00.0, compute capability: 5.2\n"
     ]
    }
   ],
   "source": [
    "mainAudioFile = wave.open(f'{dir}audio.wav', mode='r')\n",
    "\n",
    "def gen():\n",
    "    global mainAudioFile, samplesPerFrame\n",
    "    \n",
    "    #audio\n",
    "    initQueues()\n",
    "    mainAudioFile.rewind()\n",
    "    \n",
    "    if not (mainAudioFile.getparams()[0] == 2 and mainAudioFile.getparams()[2] == 44100):\n",
    "        print('wrong audiofile params')\n",
    "        sys.exit(1)\n",
    "    \n",
    "    \n",
    "    #video\n",
    "    openCap()\n",
    "    frames = cap.get(cv2.CAP_PROP_FRAME_COUNT) -1\n",
    "    \n",
    "    \n",
    "    while int(cap.get(cv2.CAP_PROP_POS_FRAMES)) <= frames:\n",
    "        #audio\n",
    "        frame = mainAudioFile.readframes(samplesPerFrame)\n",
    "        \n",
    "        if len(frame) < samplesPerFrame*2:\n",
    "            frame = frame + b'\\x00' * ((samplesPerFrame*4)-len(frame))\n",
    "        \n",
    "        #video\n",
    "        vframe = getNext()[1]\n",
    "        \n",
    "        yield vframe[0][np.newaxis, :], (Abreacker(tf.io.decode_raw(frame, tf.uint16, little_endian=True).numpy()))\n",
    "        \n",
    "        #second frame\n",
    "        frame = mainAudioFile.readframes(samplesPerFrame)\n",
    "        \n",
    "        if len(frame) < samplesPerFrame*2:\n",
    "            frame = frame + b'\\x00' * ((samplesPerFrame*4)-len(frame))\n",
    "        yield vframe[1][np.newaxis, :], (Abreacker(tf.io.decode_raw(frame, tf.uint16, little_endian=True).numpy()))\n",
    "\n",
    "        \n",
    "dataset=tf.data.Dataset.from_generator(\n",
    "    gen, \n",
    "    output_signature=(#tf.TensorSpec(shape=(1, int(HEIGHT/2), WIDTH), dtype=tf.uint8, name='image'),\n",
    "                      tf.TensorSpec(shape=(None, 294, 435), dtype=tf.uint8, name='image'),\n",
    "                      tf.TensorSpec(shape=(samplesPerFrame*2,), dtype=tf.uint16, name='audio'),\n",
    "                      #tf.TensorSpec(shape=(1), dtype=tf.int32, name='frameNum')\n",
    "                     )\n",
    ")#.cache('./dataset/')"
   ]
  },
  {
   "cell_type": "code",
   "execution_count": 13,
   "metadata": {
    "tags": []
   },
   "outputs": [
    {
     "name": "stdout",
     "output_type": "stream",
     "text": [
      "1764\n",
      "[22294     0     0 ... 37738 10604 48614]\n",
      "(<tf.Tensor: shape=(1, 294, 435), dtype=uint8, numpy=\n",
      "array([[[  0,   0,   0, ...,   0,   0,   0],\n",
      "        [  0,   0,   0, ...,   0,   0,   0],\n",
      "        [149, 149, 149, ...,   0,   0,   0],\n",
      "        ...,\n",
      "        [149, 149, 149, ...,   0,   0,   0],\n",
      "        [  0,   0,   0, ..., 149, 149, 149],\n",
      "        [  0,   0,   0, ..., 149, 149, 149]]], dtype=uint8)>, <tf.Tensor: shape=(1764,), dtype=uint16, numpy=array([22294,     0,     0, ..., 37738, 10604, 48614], dtype=uint16)>)\n"
     ]
    },
    {
     "name": "stderr",
     "output_type": "stream",
     "text": [
      "2024-05-07 01:10:17.389458: I tensorflow/core/common_runtime/executor.cc:1197] [/device:CPU:0] (DEBUG INFO) Executor start aborting (this does not indicate an error and you can ignore this message): INVALID_ARGUMENT: You must feed a value for placeholder tensor 'Placeholder/_0' with dtype int32\n",
      "\t [[{{node Placeholder/_0}}]]\n"
     ]
    }
   ],
   "source": [
    "tmp = list(dataset.take(1))[0]\n",
    "print(len(tmp[1].numpy()))\n",
    "print(tmp[1].numpy())\n",
    "print(tmp)"
   ]
  },
  {
   "cell_type": "raw",
   "metadata": {
    "tags": []
   },
   "source": [
    "#a='./dataset/video.avi'\n",
    "#openCap(a)\n",
    "_, img = getNext()\n",
    "cv2.imwrite('a.png', img[1])"
   ]
  },
  {
   "cell_type": "raw",
   "metadata": {
    "tags": []
   },
   "source": [
    "fAudioFile = wave.open(f'./dataset/audio.wav', mode='r')\n",
    "b=fAudioFile.readframes(882)\n",
    "initQueues()\n",
    "c=Abreacker(np.right_shift(tf.io.decode_raw(b, tf.uint16, little_endian=True).numpy(), 2))\n",
    "\n",
    "#np.binary_repr(c.min(), width=14)\n",
    "#np.binary_repr(c.max(), width=14)\n",
    "\n",
    "k = iter(c)\n",
    "zp = zip(k, k, k, k, k, k)\n",
    "frm = np.array([], dtype=np.uint8)\n",
    "\n",
    "for line in zp:\n",
    "    ln = np.array([], dtype=np.uint8)\n",
    "    for sampl in line:\n",
    "        ln = np.append(ln, [list(np.binary_repr(sampl, width=14))])\n",
    "    frm = np.append(frm, ln)"
   ]
  },
  {
   "cell_type": "raw",
   "metadata": {
    "tags": []
   },
   "source": [
    "fram = frm.reshape(int(frm.shape[0]/84), 84).astype(np.uint8)\n",
    "fram *= 255\n",
    "cv2.imwrite('b.png', cv2.resize(fram, (435, 294), interpolation=cv2.INTER_NEAREST))"
   ]
  },
  {
   "cell_type": "markdown",
   "metadata": {},
   "source": [
    "#create model\n",
    "-"
   ]
  },
  {
   "cell_type": "code",
   "execution_count": 14,
   "metadata": {
    "tags": []
   },
   "outputs": [],
   "source": [
    "#input = keras.Input(shape=(int(HEIGHT/2), WIDTH), name = 'image')\n",
    "input = keras.Input(shape=(294, 435), name = 'image', dtype=tf.uint8)\n",
    "\n",
    "dtype = tf.float32"
   ]
  },
  {
   "cell_type": "code",
   "execution_count": 15,
   "metadata": {
    "tags": []
   },
   "outputs": [
    {
     "name": "stdout",
     "output_type": "stream",
     "text": [
      "(None, 294, 168)\n"
     ]
    }
   ],
   "source": [
    "x = tf.keras.layers.Rescaling(1./255, name='normalize', dtype=dtype)(input)\n",
    "i = 1\n",
    "x = tf.keras.layers.Conv1D(168, 1, activation='relu', name=f'conv1d_{i}', dtype=dtype)(x)\n",
    "i +=1\n",
    "x = tf.keras.layers.Conv1D(168, 1, activation='relu', name=f'conv1d_{i}', dtype=dtype)(x)\n",
    "\n",
    "print(x.shape)\n",
    "\n",
    "x = tf.keras.layers.Reshape((x.shape[1], x.shape[2], 1))(x)\n",
    "#\n",
    "i = 1\n",
    "x = tf.keras.layers.Conv2D(1, (1, 4), strides=(1,4), activation='sigmoid', name=f'conv2d_{i}', dtype=dtype)(x)\n",
    "#i +=1\n",
    "#x = tf.keras.layers.Conv2D(1, (1, 16), strides=(1,16), activation='sigmoid', name=f'conv2d_{i}', dtype=dtype)(x)\n",
    "#i +=1\n",
    "#x = tf.keras.layers.Conv2D(3, 32, activation='sigmoid', name=f'conv2d_{i}')(x)\n",
    "#\n",
    "#x = tf.keras.layers.Flatten(name='Flatten')(x)\n",
    "#x = tf.keras.layers.Dense((samplesPerFrame*2), activation='relu', use_bias=False, dtype=dtype)(x)"
   ]
  },
  {
   "cell_type": "code",
   "execution_count": 16,
   "metadata": {
    "tags": []
   },
   "outputs": [
    {
     "name": "stdout",
     "output_type": "stream",
     "text": [
      "(None, 12348)\n",
      "diff total:10584\n"
     ]
    }
   ],
   "source": [
    "x = tf.keras.layers.Flatten(name='Flatten2')(x)\n",
    "print(x.shape)\n",
    "print(f'diff total:{x.shape[1]-(samplesPerFrame*2)}') "
   ]
  },
  {
   "cell_type": "code",
   "execution_count": 17,
   "metadata": {
    "tags": []
   },
   "outputs": [],
   "source": [
    "x = tf.keras.layers.Dense((samplesPerFrame*2), activation='relu', use_bias=True, dtype=dtype)(x)\n",
    "x = tf.keras.layers.Rescaling(65535, name='normalize_touint')(x)"
   ]
  },
  {
   "cell_type": "code",
   "execution_count": 18,
   "metadata": {
    "tags": []
   },
   "outputs": [
    {
     "name": "stdout",
     "output_type": "stream",
     "text": [
      "Model: \"model\"\n",
      "_________________________________________________________________\n",
      " Layer (type)                Output Shape              Param #   \n",
      "=================================================================\n",
      " image (InputLayer)          [(None, 294, 435)]        0         \n",
      "                                                                 \n",
      " normalize (Rescaling)       (None, 294, 435)          0         \n",
      "                                                                 \n",
      " conv1d_1 (Conv1D)           (None, 294, 168)          73248     \n",
      "                                                                 \n",
      " conv1d_2 (Conv1D)           (None, 294, 168)          28392     \n",
      "                                                                 \n",
      " reshape (Reshape)           (None, 294, 168, 1)       0         \n",
      "                                                                 \n",
      " conv2d_1 (Conv2D)           (None, 294, 42, 1)        5         \n",
      "                                                                 \n",
      " Flatten2 (Flatten)          (None, 12348)             0         \n",
      "                                                                 \n",
      " dense (Dense)               (None, 1764)              21783636  \n",
      "                                                                 \n",
      " normalize_touint (Rescaling  (None, 1764)             0         \n",
      " )                                                               \n",
      "                                                                 \n",
      "=================================================================\n",
      "Total params: 21,885,281\n",
      "Trainable params: 21,885,281\n",
      "Non-trainable params: 0\n",
      "_________________________________________________________________\n"
     ]
    }
   ],
   "source": [
    "model = keras.Model(input, x)\n",
    "model.summary()\n",
    "\n",
    "#tf.keras.utils.plot_model(model, to_file=\"model.png\", show_shapes=True, show_dtype=False, show_layer_names=True, rankdir=\"TB\", expand_nested=True, dpi=96, layer_range=None, show_layer_activations=True)"
   ]
  },
  {
   "cell_type": "markdown",
   "metadata": {},
   "source": [
    "compile and learn\n",
    "-"
   ]
  },
  {
   "cell_type": "code",
   "execution_count": 19,
   "metadata": {
    "tags": []
   },
   "outputs": [],
   "source": [
    "model.compile(loss='mean_absolute_error',\n",
    "              optimizer=tf.keras.optimizers.Adam(learning_rate=0.01),\n",
    "              metrics=['binary_accuracy', 'mean_squared_error', 'MeanAbsolutePercentageError'])\n",
    "loss = 1\n",
    "prew_loss = loss\n",
    "step = 0    \n",
    "fails = 0\n",
    "global_min = 0"
   ]
  },
  {
   "cell_type": "code",
   "execution_count": 20,
   "metadata": {
    "tags": []
   },
   "outputs": [
    {
     "name": "stdout",
     "output_type": "stream",
     "text": [
      "/usr/bin/zsh: /mnt/trashbin/alex/miniconda3/envs/tf/lib/libncursesw.so.6: no version information available (required by /usr/bin/zsh)\n",
      "/usr/bin/zsh: /mnt/trashbin/alex/miniconda3/envs/tf/lib/libncursesw.so.6: no version information available (required by /usr/bin/zsh)\n"
     ]
    }
   ],
   "source": [
    "!rm -rf ./logs/ ./model/ ./output/\n",
    "!mkdir logs model output output/flac"
   ]
  },
  {
   "cell_type": "code",
   "execution_count": 23,
   "metadata": {
    "tags": []
   },
   "outputs": [],
   "source": [
    "testfile = 'testfiles/pal/Portal2-3x10-Your_Precious_Moon.avi'\n",
    "limit = 1    #limiting in seconds\n",
    "\n",
    "def predict():\n",
    "    global step, testfile, vframe, model, cap, times\n",
    "    initQueuesForDebreacker()\n",
    "    \n",
    "    openCap(testfile)\n",
    "    bar = tqdm(total=25*limit, ncols=100, position=0, leave=True)\n",
    "    audio_buffer = np.array([], dtype=np.uint16)\n",
    "\n",
    "    file = wave.open(f'output/{step}.wav', mode='w')\n",
    "    file.setnchannels(2) \n",
    "    file.setsampwidth(2)\n",
    "    file.setframerate(44100)\n",
    "    ret, vframe = getNext()\n",
    "    frst = True\n",
    "    times = np.zeros(4*25*limit).reshape(4, 25*limit)\n",
    "    i = 0\n",
    "    \n",
    "    \n",
    "    while ret:\n",
    "        aframe = Adebreacker(model.predict(vframe, verbose=0, batch_size=1)[0].astype(np.uint16))\n",
    "        \n",
    "        audio_buffer = np.concatenate((audio_buffer, np.frombuffer(aframe.tobytes(), dtype=np.uint16)))\n",
    "        \n",
    "        if len(aframe) != (samplesPerFrame*2):\n",
    "            print(f'len != (samplesPerFrame*2)')\n",
    "        \n",
    "        if frst:\n",
    "            frst = False\n",
    "            #file.writeframes(aframe[480:].tobytes())\n",
    "            file.writeframes(aframe.tobytes())\n",
    "        else:\n",
    "            file.writeframes(aframe.tobytes())\n",
    "        \n",
    "        bar.update(1)\n",
    "        ret, vframe = getNext()\n",
    "        \n",
    "        if int(cap.get(cv2.CAP_PROP_POS_FRAMES)) > 25*limit:\n",
    "            ret = False\n",
    "            \n",
    "        i = i + 1\n",
    "    \n",
    "    bar.close()\n",
    "    file.close()\n",
    "    \n",
    "    sample_rate = 44100\n",
    "    fig, (ax1, ax2) = plt.subplots(2, 1, figsize=(10, 8))\n",
    "\n",
    "    spectrogram_data, freqs, times, im = ax1.specgram(audio_buffer, Fs=sample_rate, cmap='inferno')\n",
    "    ax1.set_title('Спектрограмма')\n",
    "    ax1.set_xlabel('Время')\n",
    "    ax1.set_ylabel('Частота')\n",
    "    plt.colorbar(im, ax=ax1)\n",
    "\n",
    "    time_array = np.linspace(0, len(audio_buffer) / sample_rate, len(audio_buffer))\n",
    "    ax2.plot(time_array, audio_buffer)\n",
    "    ax2.set_title('Аудиоданные')\n",
    "    ax2.set_xlabel('Время (с)')\n",
    "    ax2.set_ylabel('Амплитуда')\n",
    "\n",
    "    plt.style.use('dark_background')\n",
    "\n",
    "    output_path = f'output/{step}_spec_and_audio.jpg'\n",
    "    plt.savefig(output_path, dpi=300, bbox_inches='tight')\n",
    "    plt.close(fig)\n",
    "    \n",
    "    !LD_LIBRARY_PATH= /usr/bin/ffmpeg -loglevel error -hide_banner -i output/{step}.wav -y -fs 24M output/flac/{step}.flac\n",
    "    #IPython.display.display(IPython.display.Audio(f'output/flac/{step}.flac'))"
   ]
  },
  {
   "cell_type": "code",
   "execution_count": 24,
   "metadata": {
    "tags": []
   },
   "outputs": [
    {
     "name": "stderr",
     "output_type": "stream",
     "text": [
      "100%|███████████████████████████████████████████████████████████████| 25/25 [00:01<00:00, 14.11it/s]\n"
     ]
    },
    {
     "name": "stdout",
     "output_type": "stream",
     "text": [
      "/usr/bin/zsh: /mnt/trashbin/alex/miniconda3/envs/tf/lib/libncursesw.so.6: no version information available (required by /usr/bin/zsh)\n"
     ]
    }
   ],
   "source": [
    "predict()"
   ]
  },
  {
   "cell_type": "code",
   "execution_count": 25,
   "metadata": {
    "tags": []
   },
   "outputs": [
    {
     "name": "stdout",
     "output_type": "stream",
     "text": [
      "[57801.58  19688.984     0.    ... 23089.31      0.    20922.   ]\n",
      "1764\n",
      "0.0 143160.08\n"
     ]
    }
   ],
   "source": [
    "tmp = model.predict(vframe, verbose=0, batch_size=1)[0]\n",
    "print(tmp)\n",
    "print(len(tmp))\n",
    "print(min(tmp), max(tmp))"
   ]
  },
  {
   "cell_type": "code",
   "execution_count": 26,
   "metadata": {
    "tags": []
   },
   "outputs": [
    {
     "name": "stdout",
     "output_type": "stream",
     "text": [
      "20240507-012009 step: 15 min loss: 26600.185546875(from prew ehoch:0.08984375/current: -0.220703125/from global min: 0.08984375) fails: 0\n"
     ]
    },
    {
     "name": "stderr",
     "output_type": "stream",
     "text": [
      "100%|███████████████████████████████████████████████████████████████| 25/25 [00:01<00:00, 14.04it/s]\n"
     ]
    },
    {
     "name": "stdout",
     "output_type": "stream",
     "text": [
      "/usr/bin/zsh: /mnt/trashbin/alex/miniconda3/envs/tf/lib/libncursesw.so.6: no version information available (required by /usr/bin/zsh)\n",
      "Epoch 1/5\n",
      "3002/3002 [==============================] - 32s 11ms/step - loss: 26600.1855 - binary_accuracy: 6.6477e-04 - mean_squared_error: 1027946176.0000 - mean_absolute_percentage_error: 751022848.0000\n",
      "Epoch 2/5\n",
      " 179/3002 [>.............................] - ETA: 28s - loss: 26604.3242 - binary_accuracy: 4.8513e-04 - mean_squared_error: 1028080192.0000 - mean_absolute_percentage_error: 9315819520.0000"
     ]
    },
    {
     "name": "stderr",
     "output_type": "stream",
     "text": [
      "\n",
      "KeyboardInterrupt\n",
      "\n"
     ]
    }
   ],
   "source": [
    "epochs=5\n",
    "while loss >= 0.001:    \n",
    "    log_dir = f'logs/fit/stp{step+epochs}_{datetime.datetime.now().strftime(\"%Y%m%d-%H%M%S\")}'\n",
    "    tensorboard_callback = tf.keras.callbacks.TensorBoard(log_dir=log_dir, histogram_freq=1)\n",
    "    tf.debugging.set_log_device_placement(True)\n",
    "    fitHistory = model.fit(dataset, epochs=epochs, callbacks=[tensorboard_callback])\n",
    "    \n",
    "    clear_output(wait=True)\n",
    "    model.save(f'model/stp{step+epochs}_{datetime.datetime.now().strftime(\"%Y%m%d-%H%M%S\")}', save_format=\"h5\")\n",
    "    \n",
    "    step = step +epochs\n",
    "    prew_loss = loss\n",
    "    loss = np.min(fitHistory.history['loss'])\n",
    "    \n",
    "    print(f'{datetime.datetime.now().strftime(\"%Y%m%d-%H%M%S\")} step: {step} min loss: {loss}(from prew ehoch:{loss-prew_loss}/current: {np.min(fitHistory.history[\"loss\"]) - np.max(fitHistory.history[\"loss\"])}/from global min: {loss - global_min}) fails: {fails}')\n",
    "\n",
    "    if global_min > loss or global_min == 0:\n",
    "        global_min = loss\n",
    "        fails = 0\n",
    "    else:\n",
    "        fails += 1\n",
    "    \n",
    "    if fails < 2:\n",
    "        predict()\n",
    "    \n",
    "    if fails >= 5:\n",
    "        #learn fail, need to rebuild model\n",
    "        loss = 0"
   ]
  },
  {
   "cell_type": "raw",
   "metadata": {},
   "source": [
    "model.fit(dataset, epochs=1)"
   ]
  },
  {
   "cell_type": "code",
   "execution_count": null,
   "metadata": {},
   "outputs": [],
   "source": []
  },
  {
   "cell_type": "code",
   "execution_count": null,
   "metadata": {},
   "outputs": [],
   "source": []
  },
  {
   "cell_type": "raw",
   "metadata": {},
   "source": [
    "%tensorboard --logdir logs/fit"
   ]
  },
  {
   "cell_type": "code",
   "execution_count": null,
   "metadata": {},
   "outputs": [],
   "source": []
  },
  {
   "cell_type": "code",
   "execution_count": null,
   "metadata": {},
   "outputs": [],
   "source": []
  }
 ],
 "metadata": {
  "kernelspec": {
   "display_name": "Python 3 (ipykernel)",
   "language": "python",
   "name": "python3"
  },
  "language_info": {
   "codemirror_mode": {
    "name": "ipython",
    "version": 3
   },
   "file_extension": ".py",
   "mimetype": "text/x-python",
   "name": "python",
   "nbconvert_exporter": "python",
   "pygments_lexer": "ipython3",
   "version": "3.9.16"
  },
  "toc-autonumbering": true
 },
 "nbformat": 4,
 "nbformat_minor": 4
}
