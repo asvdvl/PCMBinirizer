{
 "cells": [
  {
   "cell_type": "markdown",
   "metadata": {},
   "source": [
    "imports\n",
    "-"
   ]
  },
  {
   "cell_type": "code",
   "execution_count": 1,
   "metadata": {
    "tags": []
   },
   "outputs": [
    {
     "data": {
      "text/plain": [
       "'3.9.13 (main, Aug 25 2022, 23:26:10) \\n[GCC 11.2.0]'"
      ]
     },
     "execution_count": 1,
     "metadata": {},
     "output_type": "execute_result"
    }
   ],
   "source": [
    "import sys, os\n",
    "sys.version"
   ]
  },
  {
   "cell_type": "code",
   "execution_count": 2,
   "metadata": {},
   "outputs": [],
   "source": [
    "#math\n",
    "import numpy as np\n",
    "#capture\n",
    "import cv2\n",
    "import wave\n",
    "#utils\n",
    "from tqdm import tqdm\n",
    "from IPython.display import Image\n",
    "import datetime\n",
    "from collections import deque\n",
    "import matplotlib.pyplot as plt"
   ]
  },
  {
   "cell_type": "raw",
   "metadata": {},
   "source": [
    "#disable CUDA devices\n",
    "os.environ[\"CUDA_VISIBLE_DEVICES\"] = \"-1\""
   ]
  },
  {
   "cell_type": "code",
   "execution_count": 3,
   "metadata": {},
   "outputs": [],
   "source": [
    "%load_ext tensorboard"
   ]
  },
  {
   "cell_type": "code",
   "execution_count": 4,
   "metadata": {},
   "outputs": [
    {
     "name": "stdout",
     "output_type": "stream",
     "text": [
      "2.9.2\n"
     ]
    }
   ],
   "source": [
    "#neural\n",
    "import tensorflow as tf\n",
    "import keras\n",
    "from tensorflow.python.client import device_lib\n",
    "from tensorflow.keras import layers\n",
    "print(tf.__version__)"
   ]
  },
  {
   "cell_type": "code",
   "execution_count": 5,
   "metadata": {},
   "outputs": [
    {
     "name": "stderr",
     "output_type": "stream",
     "text": [
      "2022-10-23 16:00:55.047790: I tensorflow/core/platform/cpu_feature_guard.cc:193] This TensorFlow binary is optimized with oneAPI Deep Neural Network Library (oneDNN) to use the following CPU instructions in performance-critical operations:  AVX2 FMA\n",
      "To enable them in other operations, rebuild TensorFlow with the appropriate compiler flags.\n",
      "2022-10-23 16:00:55.747414: I tensorflow/core/common_runtime/gpu/gpu_device.cc:1532] Created device /job:localhost/replica:0/task:0/device:GPU:0 with 599 MB memory:  -> device: 0, name: NVIDIA GeForce GTX 1050, pci bus id: 0000:02:00.0, compute capability: 6.1\n"
     ]
    }
   ],
   "source": [
    "config = tf.compat.v1.ConfigProto()\n",
    "config.gpu_options.per_process_gpu_memory_fraction = 0.3\n",
    "session = tf.compat.v1.Session(config=config)"
   ]
  },
  {
   "cell_type": "markdown",
   "metadata": {},
   "source": [
    "system info\n",
    "-"
   ]
  },
  {
   "cell_type": "raw",
   "metadata": {
    "tags": []
   },
   "source": [
    "!nvidia-smi"
   ]
  },
  {
   "cell_type": "code",
   "execution_count": 6,
   "metadata": {
    "tags": []
   },
   "outputs": [
    {
     "name": "stdout",
     "output_type": "stream",
     "text": [
      "CPU|/device:CPU:0 memory limit: 268435456\n",
      "\n",
      "GPU|/device:GPU:0 memory limit: 628693401\n",
      "device: 0, name: NVIDIA GeForce GTX 1050, pci bus id: 0000:02:00.0, compute capability: 6.1\n"
     ]
    },
    {
     "name": "stderr",
     "output_type": "stream",
     "text": [
      "2022-10-23 16:00:55.753680: I tensorflow/core/common_runtime/gpu/gpu_device.cc:1532] Created device /device:GPU:0 with 599 MB memory:  -> device: 0, name: NVIDIA GeForce GTX 1050, pci bus id: 0000:02:00.0, compute capability: 6.1\n"
     ]
    }
   ],
   "source": [
    "for i in device_lib.list_local_devices():\n",
    "    print(f'{i.device_type}|{i.name} memory limit: {i.memory_limit}')\n",
    "    print(i.physical_device_desc)"
   ]
  },
  {
   "cell_type": "markdown",
   "metadata": {
    "tags": []
   },
   "source": [
    "import data\n",
    "-"
   ]
  },
  {
   "cell_type": "code",
   "execution_count": 7,
   "metadata": {
    "tags": []
   },
   "outputs": [],
   "source": [
    "def reshape(frame):\n",
    "    global WIDTH, HEIGHT\n",
    "    newframe = np.zeros(WIDTH*HEIGHT).reshape(HEIGHT, WIDTH)\n",
    "    if frame.shape[0] == HEIGHT and frame.shape[1] == WIDTH:\n",
    "        return frame\n",
    "    elif frame.shape[0] <= HEIGHT and frame.shape[1] <= WIDTH:\n",
    "        newframe[:frame.shape[0],:frame.shape[1]] = frame\n",
    "    elif frame.shape[0] <= HEIGHT:\n",
    "        newframe[:frame.shape[0],:] = frame[:, :WIDTH]\n",
    "    elif frame.shape[1] <= WIDTH:\n",
    "        newframe[:,:frame.shape[1]] = frame[:HEIGHT, :]\n",
    "    else:\n",
    "        newframe = frame[:HEIGHT, :WIDTH]\n",
    "    return newframe\n",
    "\n",
    "def deinterlase(frame):\n",
    "    even_fields=frame[::2,:];\n",
    "    odd_fields=frame[1::2,:];\n",
    "    return even_fields, odd_fields"
   ]
  },
  {
   "cell_type": "code",
   "execution_count": 8,
   "metadata": {
    "tags": []
   },
   "outputs": [],
   "source": [
    "WIDTH = int(720)\n",
    "HEIGHT = int(625-1)\n",
    "\n",
    "def normilizeFrame(frame):\n",
    "    global WIDTH, HEIGHT\n",
    "    frame = cv2.cvtColor(frame, cv2.COLOR_BGR2GRAY)\n",
    "    \n",
    "    #change dimentions(choose 1 of 2 options)\n",
    "    #frame = cv2.resize(frame, (WIDTH, HEIGHT), interpolation=cv2.INTER_NEAREST)\n",
    "    frame = reshape(frame)\n",
    "    \n",
    "    return deinterlase(frame)\n",
    "    #return frame / 255.0\n",
    "\n",
    "def retrieve():\n",
    "    global WIDTH, HEIGHT\n",
    "    if cap.grab():\n",
    "        ret, frame = cap.retrieve()\n",
    "        if not ret:\n",
    "            print('error reading frame')\n",
    "            return False, normilizeFrame(np.zeros(WIDTH*HEIGHT).reshape(WIDTH, HEIGHT))\n",
    "        return True, normilizeFrame(frame)\n",
    "    else:\n",
    "        return False, normilizeFrame(np.zeros(WIDTH*HEIGHT).reshape(WIDTH, HEIGHT))\n",
    "\n",
    "def getNext():\n",
    "    global first, bottomFrame, half\n",
    "    if first == True:\n",
    "        first = False\n",
    "        half = False\n",
    "        ret, (topFrame, bottomFrame) = retrieve()\n",
    "        return ret, topFrame[np.newaxis is None,:,:]\n",
    "    \n",
    "    if half:\n",
    "        ret, (topFrame, bottomFrame) = retrieve()\n",
    "        half = False\n",
    "        return ret, topFrame[np.newaxis is None,:,:]\n",
    "    else:\n",
    "        half = True\n",
    "        return True, bottomFrame[np.newaxis is None,:,:]\n",
    "\n",
    "def openCap(file):\n",
    "    global cap, gray, half, first\n",
    "    first = True\n",
    "    cap = cv2.VideoCapture(file + '.avi')\n",
    "    if (cap.isOpened()== False): \n",
    "      print(\"Error opening video stream or file\")\n",
    "openCap('./dataset/video')"
   ]
  },
  {
   "cell_type": "code",
   "execution_count": 9,
   "metadata": {
    "tags": []
   },
   "outputs": [
    {
     "name": "stdout",
     "output_type": "stream",
     "text": [
      "1501\n",
      "882\n"
     ]
    }
   ],
   "source": [
    "frameCount = int(cap.get(cv2.CAP_PROP_FRAME_COUNT))\n",
    "\n",
    "print(frameCount)\n",
    "\n",
    "#tech calc\n",
    "\n",
    "#audio in pcm have 44100 samples in second per channel, respectively we have 88200 samples\n",
    "#per frame we have 44100/25(pal) = 1764 samples(for single channel)(and we take half of frame for learning /2)\n",
    "\n",
    "samplesPerFrame = int(44100/cap.get(cv2.CAP_PROP_FPS)/2)\n",
    "print(samplesPerFrame)"
   ]
  },
  {
   "cell_type": "markdown",
   "metadata": {},
   "source": [
    "create dataset"
   ]
  },
  {
   "cell_type": "code",
   "execution_count": 10,
   "metadata": {},
   "outputs": [],
   "source": [
    "dir = \"./dataset/\""
   ]
  },
  {
   "cell_type": "raw",
   "metadata": {
    "tags": []
   },
   "source": [
    "!rm -rf ./dataset\n",
    "!mkdir -p dataset\n",
    "!mkdir -p dataset/cache\n",
    "\n",
    "import shutil\n",
    "shutil.copyfile(fileName + '.avi', f'{dir}video.avi')\n",
    "shutil.copyfile(fileName + '.wav', f'{dir}audio.wav')"
   ]
  },
  {
   "cell_type": "code",
   "execution_count": 11,
   "metadata": {},
   "outputs": [],
   "source": [
    "def initQueues():\n",
    "    global bufR0, bufL1, bufR1, bufR2, bufL2\n",
    "    bufR0 = deque()\n",
    "    bufL1 = deque()\n",
    "    bufR1 = deque()\n",
    "    bufL2 = deque()\n",
    "    bufR2 = deque()\n",
    "    \n",
    "    for i in range(1*16):\n",
    "        bufR0.append(0)\n",
    "    \n",
    "    for i in range(2*16):\n",
    "        bufL1.append(0)\n",
    "    \n",
    "    for i in range(3*16):\n",
    "        bufR1.append(0)\n",
    "    \n",
    "    for i in range(4*16):\n",
    "        bufL2.append(0)\n",
    "    \n",
    "    for i in range(5*16):\n",
    "        bufR2.append(0)    \n",
    "        \n",
    "def pairwise(iterable):\n",
    "    a = iter(iterable)\n",
    "    if len(iterable) % 6 != 0:\n",
    "        print(f'input length detected that is not divisible by 6! all data after the {len(iterable)-(len(iterable) % 6)}({len(iterable) % 6} cells) position will be ignored.')\n",
    "    return zip(a, a, a, a, a, a)\n",
    "    \n",
    "def Abreacker(sample):\n",
    "    global bufR0, bufL1, bufR1, bufR2, bufL2\n",
    "    filtered = np.array([], dtype=np.uint16)\n",
    "    line = np.zeros(6, dtype=np.uint16)\n",
    "\n",
    "    for elem in pairwise(sample):\n",
    "        bufR0.append(elem[1])\n",
    "        bufL1.append(elem[2])\n",
    "        bufR1.append(elem[3])\n",
    "        bufL2.append(elem[4])\n",
    "        bufR2.append(elem[5])\n",
    "        \n",
    "        line[0] = elem[0]\n",
    "        line[1] = bufR0.popleft()\n",
    "        line[2] = bufL1.popleft()\n",
    "        line[3] = bufR1.popleft()\n",
    "        line[4] = bufL2.popleft()\n",
    "        line[5] = bufR2.popleft()\n",
    "                \n",
    "        filtered = np.append(filtered, line)\n",
    "    \n",
    "    return filtered"
   ]
  },
  {
   "cell_type": "code",
   "execution_count": 12,
   "metadata": {
    "tags": []
   },
   "outputs": [],
   "source": [
    "def initQueuesForDebreacker():\n",
    "    global bufL0D, bufR0D, bufL1D, bufR1D, bufL2D\n",
    "    bufL0D = deque()\n",
    "    bufR0D = deque()\n",
    "    bufL1D = deque()\n",
    "    bufR1D = deque()\n",
    "    bufL2D = deque()\n",
    "    \n",
    "    for i in range(5*16):\n",
    "        bufL0D.append(0)\n",
    "        \n",
    "    for i in range(4*16):\n",
    "        bufR0D.append(0)\n",
    "    \n",
    "    for i in range(3*16):\n",
    "        bufL1D.append(0)\n",
    "    \n",
    "    for i in range(2*16):\n",
    "        bufR1D.append(0)\n",
    "    \n",
    "    for i in range(1*16):\n",
    "        bufL2D.append(0)\n",
    "        \n",
    "def Adebreacker(sample):\n",
    "    global bufL0D, bufR0D, bufL1D, bufR1D, bufL2D\n",
    "    filtered = np.array([], dtype=np.uint16)\n",
    "    line = np.zeros(6, dtype=np.uint16)\n",
    "    \n",
    "    for elem in pairwise(sample):\n",
    "        bufL0D.append(elem[0])\n",
    "        bufR0D.append(elem[1])\n",
    "        bufL1D.append(elem[2])\n",
    "        bufR1D.append(elem[3])\n",
    "        bufL2D.append(elem[4])\n",
    "        \n",
    "        line[0] = bufL0D.popleft()\n",
    "        line[1] = bufR0D.popleft()\n",
    "        line[2] = bufL1D.popleft()\n",
    "        line[3] = bufR1D.popleft()\n",
    "        line[4] = bufL2D.popleft()\n",
    "        line[5] = elem[5]\n",
    "                \n",
    "        filtered = np.append(filtered, line)\n",
    "    \n",
    "    return filtered\n"
   ]
  },
  {
   "cell_type": "code",
   "execution_count": 13,
   "metadata": {
    "tags": []
   },
   "outputs": [
    {
     "name": "stderr",
     "output_type": "stream",
     "text": [
      "2022-10-23 16:00:55.832957: I tensorflow/core/common_runtime/gpu/gpu_device.cc:1532] Created device /job:localhost/replica:0/task:0/device:GPU:0 with 599 MB memory:  -> device: 0, name: NVIDIA GeForce GTX 1050, pci bus id: 0000:02:00.0, compute capability: 6.1\n"
     ]
    }
   ],
   "source": [
    "mainAudioFile = wave.open(f'{dir}audio.wav', mode='r')\n",
    "\n",
    "def gen():\n",
    "    global mainAudioFile, samplesPerFrame\n",
    "    \n",
    "    #audio\n",
    "    initQueues()\n",
    "    mainAudioFile.rewind()\n",
    "    \n",
    "    if not (mainAudioFile.getparams()[0] == 2 and mainAudioFile.getparams()[2] == 44100):\n",
    "        print('wrong audiofile params')\n",
    "        sys.exit(1)\n",
    "    \n",
    "    \n",
    "    #video\n",
    "    openCap(f'{dir}video')\n",
    "    frames = cap.get(cv2.CAP_PROP_FRAME_COUNT) -1\n",
    "    \n",
    "    \n",
    "    while int(cap.get(cv2.CAP_PROP_POS_FRAMES)) <= frames:\n",
    "        #audio\n",
    "        frame = mainAudioFile.readframes(samplesPerFrame)\n",
    "        \n",
    "        if len(frame) < samplesPerFrame*2:\n",
    "            frame = frame + b'\\x00' * ((samplesPerFrame*4)-len(frame))\n",
    "        \n",
    "        #video\n",
    "        vframe = getNext()[1]\n",
    "        \n",
    "        yield vframe, (Abreacker(tf.io.decode_raw(frame, tf.uint16, little_endian=True).numpy()))\n",
    "\n",
    "        \n",
    "dataset=tf.data.Dataset.from_generator(\n",
    "    gen, \n",
    "    output_signature=(tf.TensorSpec(shape=(1, int(HEIGHT/2), WIDTH), dtype=tf.uint8, name='image'),\n",
    "                      tf.TensorSpec(shape=(samplesPerFrame*2,), dtype=tf.uint16, name='audio'),\n",
    "                      #tf.TensorSpec(shape=(1), dtype=tf.int32, name='frameNum')\n",
    "                     )\n",
    ")#.cache('./dataset/')"
   ]
  },
  {
   "cell_type": "code",
   "execution_count": 14,
   "metadata": {},
   "outputs": [
    {
     "data": {
      "text/plain": [
       "65452"
      ]
     },
     "execution_count": 14,
     "metadata": {},
     "output_type": "execute_result"
    }
   ],
   "source": [
    "list(dataset.take(1))[0][1].numpy().max()"
   ]
  },
  {
   "cell_type": "markdown",
   "metadata": {},
   "source": [
    "#create model\n",
    "-"
   ]
  },
  {
   "cell_type": "code",
   "execution_count": 15,
   "metadata": {},
   "outputs": [],
   "source": [
    "input = keras.Input(shape=(int(HEIGHT/2), WIDTH), name = 'image')"
   ]
  },
  {
   "cell_type": "code",
   "execution_count": 16,
   "metadata": {},
   "outputs": [
    {
     "name": "stdout",
     "output_type": "stream",
     "text": [
      "(None, 312, 360)\n",
      "(None, 312, 6, 8)\n",
      "diff total:11448\n"
     ]
    }
   ],
   "source": [
    "x = tf.keras.layers.Rescaling(1./255, name='normalize')(input)\n",
    "i = 1\n",
    "x = tf.keras.layers.Conv1D(360, 1, activation='sigmoid', name=f'conv1d_{i}')(x)\n",
    "#i +=1\n",
    "#x = tf.keras.layers.Conv1D(360, 1, activation='sigmoid', name=f'conv1d_{i}')(x)\n",
    "\n",
    "print(x.shape)\n",
    "\n",
    "x = tf.keras.layers.Reshape((x.shape[1], x.shape[2], 1))(x)\n",
    "#\n",
    "i = 1\n",
    "x = tf.keras.layers.Conv2D(8, (1, 4), strides=(1,2), activation='relu', name=f'conv2d_{i}')(x)\n",
    "i +=1\n",
    "x = tf.keras.layers.Conv2D(8, (1, 2), strides=(1,2), activation='relu', name=f'conv2d_{i}')(x)\n",
    "i +=1\n",
    "x = tf.keras.layers.Conv2D(8, (1, 14), strides=(1,14), activation='relu', name=f'conv2d_{i}')(x)\n",
    "#i +=1\n",
    "#x = tf.keras.layers.Conv2D(3, 32, activation='sigmoid', name=f'conv2d_{i}')(x)\n",
    "#\n",
    "print(x.shape)\n",
    "print(f'diff total:{x.shape[1]*x.shape[2]*x.shape[3]-(samplesPerFrame*4)}') "
   ]
  },
  {
   "cell_type": "code",
   "execution_count": 17,
   "metadata": {},
   "outputs": [],
   "source": [
    "x = tf.keras.layers.Flatten(name='Flatten')(x)"
   ]
  },
  {
   "cell_type": "code",
   "execution_count": 18,
   "metadata": {
    "tags": []
   },
   "outputs": [],
   "source": [
    "x = tf.keras.layers.Dense((samplesPerFrame*2), activation='relu', use_bias=True, name='audio')(x)\n",
    "x = tf.keras.layers.Rescaling(65535, name='normalize_touint')(x)"
   ]
  },
  {
   "cell_type": "code",
   "execution_count": 19,
   "metadata": {
    "tags": []
   },
   "outputs": [
    {
     "name": "stdout",
     "output_type": "stream",
     "text": [
      "Model: \"model\"\n",
      "_________________________________________________________________\n",
      " Layer (type)                Output Shape              Param #   \n",
      "=================================================================\n",
      " image (InputLayer)          [(None, 312, 720)]        0         \n",
      "                                                                 \n",
      " normalize (Rescaling)       (None, 312, 720)          0         \n",
      "                                                                 \n",
      " conv1d_1 (Conv1D)           (None, 312, 360)          259560    \n",
      "                                                                 \n",
      " reshape (Reshape)           (None, 312, 360, 1)       0         \n",
      "                                                                 \n",
      " conv2d_1 (Conv2D)           (None, 312, 179, 8)       40        \n",
      "                                                                 \n",
      " conv2d_2 (Conv2D)           (None, 312, 89, 8)        136       \n",
      "                                                                 \n",
      " conv2d_3 (Conv2D)           (None, 312, 6, 8)         904       \n",
      "                                                                 \n",
      " Flatten (Flatten)           (None, 14976)             0         \n",
      "                                                                 \n",
      " audio (Dense)               (None, 1764)              26419428  \n",
      "                                                                 \n",
      " normalize_touint (Rescaling  (None, 1764)             0         \n",
      " )                                                               \n",
      "                                                                 \n",
      "=================================================================\n",
      "Total params: 26,680,068\n",
      "Trainable params: 26,680,068\n",
      "Non-trainable params: 0\n",
      "_________________________________________________________________\n"
     ]
    }
   ],
   "source": [
    "model = keras.Model(input, x)\n",
    "model.summary()\n",
    "\n",
    "#tf.keras.utils.plot_model(model, to_file=\"model.png\", show_shapes=True, show_dtype=False, show_layer_names=True, rankdir=\"TB\", expand_nested=True, dpi=96, layer_range=None, show_layer_activations=True)"
   ]
  },
  {
   "cell_type": "markdown",
   "metadata": {},
   "source": [
    "compile and learn\n",
    "-"
   ]
  },
  {
   "cell_type": "raw",
   "metadata": {
    "tags": []
   },
   "source": [
    "model.compile(loss='sparse_categorical_crossentropy',\n",
    "              optimizer='adam',\n",
    "              metrics=['accuracy'])"
   ]
  },
  {
   "cell_type": "code",
   "execution_count": 20,
   "metadata": {},
   "outputs": [],
   "source": [
    "model.compile(loss='mean_squared_error',\n",
    "              optimizer='adam',\n",
    "              metrics=['binary_accuracy', 'mean_squared_error', 'MeanAbsolutePercentageError'])\n",
    "loss = 1\n",
    "step = 0"
   ]
  },
  {
   "cell_type": "code",
   "execution_count": 21,
   "metadata": {},
   "outputs": [],
   "source": [
    "!rm -rf ./logs/ ./model/ ./output/\n",
    "!mkdir logs\n",
    "!mkdir model\n",
    "!mkdir output"
   ]
  },
  {
   "cell_type": "code",
   "execution_count": 22,
   "metadata": {},
   "outputs": [],
   "source": [
    "testfile = 'testfiles/pal/FROZTEN_-_Domestic_Technology'"
   ]
  },
  {
   "cell_type": "code",
   "execution_count": 23,
   "metadata": {},
   "outputs": [],
   "source": [
    "def predict():\n",
    "    global step, testfile, vframe, model, cap\n",
    "    initQueuesForDebreacker()\n",
    "    \n",
    "    openCap(testfile)\n",
    "    bar = tqdm(total=int(cap.get(cv2.CAP_PROP_FRAME_COUNT)*2), ncols=100)\n",
    "    file = wave.open(f'output/{step}.wav', mode='w')\n",
    "    file.setnchannels(2) \n",
    "    file.setsampwidth(2)\n",
    "    file.setframerate(44100)\n",
    "    ret, vframe = getNext()\n",
    "    frst = True\n",
    "    \n",
    "    while ret:\n",
    "        aframe = Adebreacker((model.predict(vframe, verbose=0, batch_size=64)[0]).astype(np.uint16))\n",
    "        if frst:\n",
    "            frst = False\n",
    "            file.writeframes(aframe[480:].tobytes())\n",
    "        else:\n",
    "            file.writeframes(aframe.tobytes())\n",
    "        bar.update(1)\n",
    "        ret, vframe = getNext()\n",
    "        if int(cap.get(cv2.CAP_PROP_POS_FRAMES)) > 25*2*20:    #limiting on 20 seconds\n",
    "            ret = False\n",
    "    bar.close()\n",
    "    file.close()"
   ]
  },
  {
   "cell_type": "code",
   "execution_count": 24,
   "metadata": {},
   "outputs": [
    {
     "name": "stderr",
     "output_type": "stream",
     "text": [
      "  0%|                                                                      | 0/9874 [00:00<?, ?it/s]2022-10-23 16:00:57.622525: I tensorflow/stream_executor/cuda/cuda_dnn.cc:384] Loaded cuDNN version 8500\n",
      " 20%|███████████▉                                               | 2000/9874 [01:44<06:52, 19.07it/s]\n"
     ]
    }
   ],
   "source": [
    "predict()"
   ]
  },
  {
   "cell_type": "markdown",
   "metadata": {},
   "source": [
    "try to generate pcm frame(just for understanding)"
   ]
  },
  {
   "cell_type": "raw",
   "metadata": {},
   "source": [
    "a='./testfiles/pal/sin1k'\n",
    "openCap(a)\n",
    "_, img = getNext()\n",
    "cv2.imwrite('a.png', img[0])"
   ]
  },
  {
   "cell_type": "raw",
   "metadata": {},
   "source": [
    "fAudioFile = wave.open(f'./testfiles/pal/sin1k.wav', mode='r')\n",
    "b=fAudioFile.readframes(882*2)\n",
    "initQueues()\n",
    "c=Abreacker(np.right_shift(tf.io.decode_raw(b, tf.int16, little_endian=True).numpy(), 2))\n",
    "\n",
    "#np.binary_repr(c.min(), width=14)\n",
    "#np.binary_repr(c.max(), width=14)\n",
    "\n",
    "k = iter(c)\n",
    "zp = zip(k, k, k, k, k, k)\n",
    "frm = np.array([], dtype=np.uint8)\n",
    "\n",
    "for line in zp:\n",
    "    ln = np.array([], dtype=np.uint8)\n",
    "    for sampl in line:\n",
    "        ln = np.append(ln, np.repeat([list(np.binary_repr(sampl, width=14))], 5))\n",
    "    frm = np.append(frm, ln)"
   ]
  },
  {
   "cell_type": "raw",
   "metadata": {},
   "source": [
    "fram = frm.reshape(int(frm.shape[0]/420), 420).astype(np.uint8)\n",
    "fram *= 255\n",
    "cv2.imwrite('b.png', fram)"
   ]
  },
  {
   "cell_type": "code",
   "execution_count": 25,
   "metadata": {
    "tags": []
   },
   "outputs": [
    {
     "name": "stdout",
     "output_type": "stream",
     "text": [
      "Epoch 1/10\n",
      "   3000/Unknown - 80s 26ms/step - loss: 613350848.0000 - binary_accuracy: 3.6680e-05 - mean_squared_error: 613350848.0000 - mean_absolute_percentage_error: 543583488.0000"
     ]
    },
    {
     "name": "stderr",
     "output_type": "stream",
     "text": [
      "2022-10-23 16:04:01.974634: W tensorflow/core/framework/cpu_allocator_impl.cc:82] Allocation of 6340239360 exceeds 10% of free system memory.\n"
     ]
    },
    {
     "name": "stdout",
     "output_type": "stream",
     "text": [
      "3001/3001 [==============================] - 82s 27ms/step - loss: 613434624.0000 - binary_accuracy: 9.8032e-05 - mean_squared_error: 613434624.0000 - mean_absolute_percentage_error: 8154827264.0000\n",
      "Epoch 2/10\n",
      "3000/3001 [============================>.] - ETA: 0s - loss: 552323840.0000 - binary_accuracy: 2.3773e-05 - mean_squared_error: 552323840.0000 - mean_absolute_percentage_error: 1185359744.0000"
     ]
    },
    {
     "name": "stderr",
     "output_type": "stream",
     "text": [
      "2022-10-23 16:05:23.652171: W tensorflow/core/framework/cpu_allocator_impl.cc:82] Allocation of 6340239360 exceeds 10% of free system memory.\n"
     ]
    },
    {
     "name": "stdout",
     "output_type": "stream",
     "text": [
      "3001/3001 [==============================] - 82s 27ms/step - loss: 552208448.0000 - binary_accuracy: 1.0781e-04 - mean_squared_error: 552208448.0000 - mean_absolute_percentage_error: 1973064448.0000\n",
      "Epoch 3/10\n",
      "3000/3001 [============================>.] - ETA: 0s - loss: 514450464.0000 - binary_accuracy: 2.1020e-05 - mean_squared_error: 514450464.0000 - mean_absolute_percentage_error: 1667039488.0000"
     ]
    },
    {
     "name": "stderr",
     "output_type": "stream",
     "text": [
      "2022-10-23 16:06:45.191537: W tensorflow/core/framework/cpu_allocator_impl.cc:82] Allocation of 6340239360 exceeds 10% of free system memory.\n"
     ]
    },
    {
     "name": "stdout",
     "output_type": "stream",
     "text": [
      "3001/3001 [==============================] - 81s 27ms/step - loss: 514356576.0000 - binary_accuracy: 5.5938e-05 - mean_squared_error: 514356576.0000 - mean_absolute_percentage_error: 4415882240.0000\n",
      "Epoch 4/10\n",
      "3001/3001 [==============================] - ETA: 0s - loss: 487346368.0000 - binary_accuracy: 5.3945e-05 - mean_squared_error: 487346368.0000 - mean_absolute_percentage_error: 4534161408.0000"
     ]
    },
    {
     "name": "stderr",
     "output_type": "stream",
     "text": [
      "2022-10-23 16:08:06.739456: W tensorflow/core/framework/cpu_allocator_impl.cc:82] Allocation of 6340239360 exceeds 10% of free system memory.\n"
     ]
    },
    {
     "name": "stdout",
     "output_type": "stream",
     "text": [
      "3001/3001 [==============================] - 82s 27ms/step - loss: 487346368.0000 - binary_accuracy: 5.3945e-05 - mean_squared_error: 487346368.0000 - mean_absolute_percentage_error: 4534161408.0000\n",
      "Epoch 5/10\n",
      "3000/3001 [============================>.] - ETA: 0s - loss: 485544608.0000 - binary_accuracy: 1.9529e-05 - mean_squared_error: 485544608.0000 - mean_absolute_percentage_error: 1677425408.0000"
     ]
    },
    {
     "name": "stderr",
     "output_type": "stream",
     "text": [
      "2022-10-23 16:09:28.203374: W tensorflow/core/framework/cpu_allocator_impl.cc:82] Allocation of 6340239360 exceeds 10% of free system memory.\n"
     ]
    },
    {
     "name": "stdout",
     "output_type": "stream",
     "text": [
      "3001/3001 [==============================] - 82s 27ms/step - loss: 485461216.0000 - binary_accuracy: 5.1184e-05 - mean_squared_error: 485461216.0000 - mean_absolute_percentage_error: 4560850432.0000\n",
      "Epoch 6/10\n",
      "3001/3001 [==============================] - 81s 27ms/step - loss: 476313312.0000 - binary_accuracy: 4.9537e-05 - mean_squared_error: 476313312.0000 - mean_absolute_percentage_error: 5067404800.0000\n",
      "Epoch 7/10\n",
      "3001/3001 [==============================] - 81s 27ms/step - loss: 467182688.0000 - binary_accuracy: 4.7504e-05 - mean_squared_error: 467182688.0000 - mean_absolute_percentage_error: 5259855360.0000\n",
      "Epoch 8/10\n",
      "3001/3001 [==============================] - 81s 27ms/step - loss: 465356960.0000 - binary_accuracy: 4.6391e-05 - mean_squared_error: 465356960.0000 - mean_absolute_percentage_error: 5761388544.0000\n",
      "Epoch 9/10\n",
      "3001/3001 [==============================] - 81s 27ms/step - loss: 460092096.0000 - binary_accuracy: 4.3937e-05 - mean_squared_error: 460092096.0000 - mean_absolute_percentage_error: 6107977216.0000\n",
      "Epoch 10/10\n",
      "3001/3001 [==============================] - 80s 27ms/step - loss: 452284960.0000 - binary_accuracy: 4.2664e-05 - mean_squared_error: 452284960.0000 - mean_absolute_percentage_error: 5871030784.0000\n"
     ]
    },
    {
     "name": "stderr",
     "output_type": "stream",
     "text": [
      " 20%|███████████▉                                               | 2000/9874 [01:47<07:03, 18.60it/s]"
     ]
    },
    {
     "name": "stdout",
     "output_type": "stream",
     "text": [
      "Epoch 1/10\n"
     ]
    },
    {
     "name": "stderr",
     "output_type": "stream",
     "text": [
      "\n"
     ]
    },
    {
     "name": "stdout",
     "output_type": "stream",
     "text": [
      "3001/3001 [==============================] - 80s 27ms/step - loss: 447546176.0000 - binary_accuracy: 4.0725e-05 - mean_squared_error: 447546176.0000 - mean_absolute_percentage_error: 6522046976.0000\n",
      "Epoch 2/10\n",
      "3001/3001 [==============================] - 81s 27ms/step - loss: 441729920.0000 - binary_accuracy: 3.9175e-05 - mean_squared_error: 441729920.0000 - mean_absolute_percentage_error: 6403665408.0000\n",
      "Epoch 3/10\n",
      "3001/3001 [==============================] - 80s 27ms/step - loss: 438343648.0000 - binary_accuracy: 3.8120e-05 - mean_squared_error: 438343648.0000 - mean_absolute_percentage_error: 6725466624.0000\n",
      "Epoch 4/10\n",
      "3001/3001 [==============================] - 80s 27ms/step - loss: 434570496.0000 - binary_accuracy: 3.6237e-05 - mean_squared_error: 434570496.0000 - mean_absolute_percentage_error: 6242080256.0000\n",
      "Epoch 5/10\n",
      "3001/3001 [==============================] - 81s 27ms/step - loss: 428602016.0000 - binary_accuracy: 3.5588e-05 - mean_squared_error: 428602016.0000 - mean_absolute_percentage_error: 5552417792.0000\n",
      "Epoch 6/10\n",
      "3001/3001 [==============================] - 81s 27ms/step - loss: 427129920.0000 - binary_accuracy: 3.5179e-05 - mean_squared_error: 427129920.0000 - mean_absolute_percentage_error: 5769678848.0000\n",
      "Epoch 7/10\n",
      "3001/3001 [==============================] - 80s 27ms/step - loss: 425522016.0000 - binary_accuracy: 3.4447e-05 - mean_squared_error: 425522016.0000 - mean_absolute_percentage_error: 5007345152.0000\n",
      "Epoch 8/10\n",
      "3001/3001 [==============================] - 80s 27ms/step - loss: 423669376.0000 - binary_accuracy: 3.4365e-05 - mean_squared_error: 423669376.0000 - mean_absolute_percentage_error: 5104082944.0000\n",
      "Epoch 9/10\n",
      "3001/3001 [==============================] - 80s 27ms/step - loss: 423666208.0000 - binary_accuracy: 3.4365e-05 - mean_squared_error: 423666208.0000 - mean_absolute_percentage_error: 4856828928.0000\n",
      "Epoch 10/10\n",
      "3001/3001 [==============================] - 80s 27ms/step - loss: 423596896.0000 - binary_accuracy: 3.4201e-05 - mean_squared_error: 423596896.0000 - mean_absolute_percentage_error: 5685905408.0000\n"
     ]
    },
    {
     "name": "stderr",
     "output_type": "stream",
     "text": [
      " 20%|███████████▉                                               | 2000/9874 [01:46<06:59, 18.77it/s]\n"
     ]
    },
    {
     "name": "stdout",
     "output_type": "stream",
     "text": [
      "Epoch 1/10\n",
      "3001/3001 [==============================] - 80s 27ms/step - loss: 423057920.0000 - binary_accuracy: 3.4174e-05 - mean_squared_error: 423057920.0000 - mean_absolute_percentage_error: 4616242688.0000\n",
      "Epoch 2/10\n",
      "3001/3001 [==============================] - 81s 27ms/step - loss: 423111968.0000 - binary_accuracy: 3.4011e-05 - mean_squared_error: 423111968.0000 - mean_absolute_percentage_error: 6177433600.0000\n",
      "Epoch 3/10\n",
      "3001/3001 [==============================] - 80s 27ms/step - loss: 422416480.0000 - binary_accuracy: 3.3657e-05 - mean_squared_error: 422416480.0000 - mean_absolute_percentage_error: 3438758144.0000\n",
      "Epoch 4/10\n",
      "3001/3001 [==============================] - 79s 26ms/step - loss: 418858112.0000 - binary_accuracy: 3.1302e-05 - mean_squared_error: 418858112.0000 - mean_absolute_percentage_error: 6744254464.0000\n",
      "Epoch 5/10\n",
      "3001/3001 [==============================] - 80s 27ms/step - loss: 412125184.0000 - binary_accuracy: 3.0771e-05 - mean_squared_error: 412125184.0000 - mean_absolute_percentage_error: 4832861696.0000\n",
      "Epoch 6/10\n",
      "3001/3001 [==============================] - 81s 27ms/step - loss: 412051520.0000 - binary_accuracy: 3.0745e-05 - mean_squared_error: 412051520.0000 - mean_absolute_percentage_error: 3796549632.0000\n",
      "Epoch 7/10\n",
      "3001/3001 [==============================] - 80s 27ms/step - loss: 412164480.0000 - binary_accuracy: 3.0255e-05 - mean_squared_error: 412164480.0000 - mean_absolute_percentage_error: 7003471360.0000\n",
      "Epoch 8/10\n",
      "3001/3001 [==============================] - 80s 27ms/step - loss: 410242400.0000 - binary_accuracy: 3.0199e-05 - mean_squared_error: 410242400.0000 - mean_absolute_percentage_error: 2482770944.0000\n",
      "Epoch 9/10\n",
      "3001/3001 [==============================] - 79s 26ms/step - loss: 408315872.0000 - binary_accuracy: 2.8858e-05 - mean_squared_error: 408315872.0000 - mean_absolute_percentage_error: 7598673920.0000\n",
      "Epoch 10/10\n",
      "3001/3001 [==============================] - 82s 27ms/step - loss: 405397280.0000 - binary_accuracy: 2.8649e-05 - mean_squared_error: 405397280.0000 - mean_absolute_percentage_error: 4257111552.0000\n"
     ]
    },
    {
     "name": "stderr",
     "output_type": "stream",
     "text": [
      " 20%|███████████▉                                               | 2000/9874 [01:54<07:29, 17.51it/s]\n"
     ]
    },
    {
     "name": "stdout",
     "output_type": "stream",
     "text": [
      "Epoch 1/10\n",
      "3001/3001 [==============================] - 83s 28ms/step - loss: 405457920.0000 - binary_accuracy: 2.8649e-05 - mean_squared_error: 405457920.0000 - mean_absolute_percentage_error: 7453108224.0000\n",
      "Epoch 2/10\n",
      "3001/3001 [==============================] - 84s 28ms/step - loss: 405376608.0000 - binary_accuracy: 2.8649e-05 - mean_squared_error: 405376608.0000 - mean_absolute_percentage_error: 2558333952.0000\n",
      "Epoch 3/10\n",
      "3001/3001 [==============================] - 83s 28ms/step - loss: 404586432.0000 - binary_accuracy: 2.7993e-05 - mean_squared_error: 404586432.0000 - mean_absolute_percentage_error: 7716073984.0000\n",
      "Epoch 4/10\n",
      "3001/3001 [==============================] - 83s 27ms/step - loss: 402949184.0000 - binary_accuracy: 2.7887e-05 - mean_squared_error: 402949184.0000 - mean_absolute_percentage_error: 3572327936.0000\n",
      "Epoch 5/10\n",
      "3001/3001 [==============================] - 83s 28ms/step - loss: 402404512.0000 - binary_accuracy: 2.6741e-05 - mean_squared_error: 402404512.0000 - mean_absolute_percentage_error: 7527035392.0000\n",
      "Epoch 6/10\n",
      "3001/3001 [==============================] - 82s 27ms/step - loss: 398706624.0000 - binary_accuracy: 2.6391e-05 - mean_squared_error: 398706624.0000 - mean_absolute_percentage_error: 3656813312.0000\n",
      "Epoch 7/10\n",
      "3001/3001 [==============================] - 83s 28ms/step - loss: 398167744.0000 - binary_accuracy: 2.6363e-05 - mean_squared_error: 398167744.0000 - mean_absolute_percentage_error: 7671556096.0000\n",
      "Epoch 8/10\n",
      "3001/3001 [==============================] - 82s 27ms/step - loss: 398077600.0000 - binary_accuracy: 2.6774e-04 - mean_squared_error: 398077600.0000 - mean_absolute_percentage_error: 1865243904.0000\n",
      "Epoch 9/10\n",
      "3001/3001 [==============================] - 83s 28ms/step - loss: 398189728.0000 - binary_accuracy: 2.6200e-05 - mean_squared_error: 398189728.0000 - mean_absolute_percentage_error: 7988518912.0000\n",
      "Epoch 10/10\n",
      "3001/3001 [==============================] - 83s 28ms/step - loss: 397469024.0000 - binary_accuracy: 2.9676e-04 - mean_squared_error: 397469024.0000 - mean_absolute_percentage_error: 1844860928.0000\n"
     ]
    },
    {
     "name": "stderr",
     "output_type": "stream",
     "text": [
      " 20%|███████████▉                                               | 2000/9874 [01:54<07:31, 17.45it/s]\n"
     ]
    },
    {
     "name": "stdout",
     "output_type": "stream",
     "text": [
      "Epoch 1/10\n",
      "3001/3001 [==============================] - 82s 27ms/step - loss: 397444640.0000 - binary_accuracy: 2.6009e-05 - mean_squared_error: 397444640.0000 - mean_absolute_percentage_error: 7933340160.0000\n",
      "Epoch 2/10\n",
      "3001/3001 [==============================] - 83s 28ms/step - loss: 396862464.0000 - binary_accuracy: 2.5982e-05 - mean_squared_error: 396862464.0000 - mean_absolute_percentage_error: 2765036032.0000\n",
      "Epoch 3/10\n",
      "3001/3001 [==============================] - 83s 28ms/step - loss: 396724928.0000 - binary_accuracy: 2.5818e-05 - mean_squared_error: 396724928.0000 - mean_absolute_percentage_error: 9099956224.0000\n",
      "Epoch 4/10\n",
      "3001/3001 [==============================] - 83s 28ms/step - loss: 396361696.0000 - binary_accuracy: 2.5792e-05 - mean_squared_error: 396361696.0000 - mean_absolute_percentage_error: 8188831232.0000\n",
      "Epoch 5/10\n",
      "3001/3001 [==============================] - 82s 27ms/step - loss: 396238624.0000 - binary_accuracy: 2.5792e-05 - mean_squared_error: 396238624.0000 - mean_absolute_percentage_error: 2650759680.0000\n",
      "Epoch 6/10\n",
      "3001/3001 [==============================] - 81s 27ms/step - loss: 396314976.0000 - binary_accuracy: 2.5792e-05 - mean_squared_error: 396314976.0000 - mean_absolute_percentage_error: 7379609088.0000\n",
      "Epoch 7/10\n",
      "3001/3001 [==============================] - 80s 27ms/step - loss: 396273984.0000 - binary_accuracy: 2.5792e-05 - mean_squared_error: 396273984.0000 - mean_absolute_percentage_error: 4585542144.0000\n",
      "Epoch 8/10\n",
      "3001/3001 [==============================] - 79s 26ms/step - loss: 396291488.0000 - binary_accuracy: 2.5792e-05 - mean_squared_error: 396291488.0000 - mean_absolute_percentage_error: 6968160768.0000\n",
      "Epoch 9/10\n",
      "3001/3001 [==============================] - 79s 26ms/step - loss: 396259936.0000 - binary_accuracy: 3.0095e-04 - mean_squared_error: 396259936.0000 - mean_absolute_percentage_error: 1766542080.0000\n",
      "Epoch 10/10\n",
      "3001/3001 [==============================] - 79s 26ms/step - loss: 396219232.0000 - binary_accuracy: 2.5792e-05 - mean_squared_error: 396219232.0000 - mean_absolute_percentage_error: 3869886464.0000\n"
     ]
    },
    {
     "name": "stderr",
     "output_type": "stream",
     "text": [
      " 20%|███████████▉                                               | 2000/9874 [01:51<07:17, 18.02it/s]"
     ]
    },
    {
     "name": "stdout",
     "output_type": "stream",
     "text": [
      "Epoch 1/10\n"
     ]
    },
    {
     "name": "stderr",
     "output_type": "stream",
     "text": [
      "\n"
     ]
    },
    {
     "name": "stdout",
     "output_type": "stream",
     "text": [
      "3001/3001 [==============================] - 79s 26ms/step - loss: 396275648.0000 - binary_accuracy: 2.5792e-05 - mean_squared_error: 396275648.0000 - mean_absolute_percentage_error: 6920075776.0000\n",
      "Epoch 2/10\n",
      "3001/3001 [==============================] - 78s 26ms/step - loss: 396298688.0000 - binary_accuracy: 3.0291e-04 - mean_squared_error: 396298688.0000 - mean_absolute_percentage_error: 1747244416.0000\n",
      "Epoch 3/10\n",
      "3001/3001 [==============================] - 78s 26ms/step - loss: 396245952.0000 - binary_accuracy: 2.5792e-05 - mean_squared_error: 396245952.0000 - mean_absolute_percentage_error: 5547170816.0000\n",
      "Epoch 4/10\n",
      "3001/3001 [==============================] - 78s 26ms/step - loss: 396244256.0000 - binary_accuracy: 3.0095e-04 - mean_squared_error: 396244256.0000 - mean_absolute_percentage_error: 1767563648.0000\n",
      "Epoch 5/10\n",
      "3001/3001 [==============================] - 78s 26ms/step - loss: 396192416.0000 - binary_accuracy: 2.5629e-05 - mean_squared_error: 396192416.0000 - mean_absolute_percentage_error: 3653634560.0000\n",
      "Epoch 6/10\n",
      "3001/3001 [==============================] - 78s 26ms/step - loss: 395685152.0000 - binary_accuracy: 2.5601e-05 - mean_squared_error: 395685152.0000 - mean_absolute_percentage_error: 7112159232.0000\n",
      "Epoch 7/10\n",
      "3001/3001 [==============================] - 79s 26ms/step - loss: 395635488.0000 - binary_accuracy: 3.0288e-04 - mean_squared_error: 395635488.0000 - mean_absolute_percentage_error: 1769608192.0000\n",
      "Epoch 8/10\n",
      "3001/3001 [==============================] - 78s 26ms/step - loss: 395597856.0000 - binary_accuracy: 2.5601e-05 - mean_squared_error: 395597856.0000 - mean_absolute_percentage_error: 4445315584.0000\n",
      "Epoch 9/10\n",
      "3001/3001 [==============================] - 78s 26ms/step - loss: 395625824.0000 - binary_accuracy: 2.5601e-05 - mean_squared_error: 395625824.0000 - mean_absolute_percentage_error: 4628793856.0000\n",
      "Epoch 10/10\n",
      "3001/3001 [==============================] - 78s 26ms/step - loss: 395732704.0000 - binary_accuracy: 2.5601e-05 - mean_squared_error: 395732704.0000 - mean_absolute_percentage_error: 6746112512.0000\n"
     ]
    },
    {
     "name": "stderr",
     "output_type": "stream",
     "text": [
      " 20%|███████████▉                                               | 2000/9874 [01:52<07:23, 17.74it/s]"
     ]
    },
    {
     "name": "stdout",
     "output_type": "stream",
     "text": [
      "Epoch 1/10\n",
      "      1/Unknown - 0s 47ms/step - loss: 469324928.0000 - binary_accuracy: 0.0048 - mean_squared_error: 469324928.0000 - mean_absolute_percentage_error: 3858572509184.0000"
     ]
    },
    {
     "name": "stderr",
     "output_type": "stream",
     "text": [
      "\n"
     ]
    },
    {
     "name": "stdout",
     "output_type": "stream",
     "text": [
      "3001/3001 [==============================] - 78s 26ms/step - loss: 395635328.0000 - binary_accuracy: 3.0321e-04 - mean_squared_error: 395635328.0000 - mean_absolute_percentage_error: 1812276864.0000\n",
      "Epoch 2/10\n",
      "3001/3001 [==============================] - 78s 26ms/step - loss: 395435488.0000 - binary_accuracy: 2.5273e-05 - mean_squared_error: 395435488.0000 - mean_absolute_percentage_error: 6821628928.0000\n",
      "Epoch 3/10\n",
      "3001/3001 [==============================] - 79s 26ms/step - loss: 394427104.0000 - binary_accuracy: 3.0282e-04 - mean_squared_error: 394427104.0000 - mean_absolute_percentage_error: 1792682624.0000\n",
      "Epoch 4/10\n",
      "3001/3001 [==============================] - 78s 26ms/step - loss: 394381600.0000 - binary_accuracy: 2.5220e-05 - mean_squared_error: 394381600.0000 - mean_absolute_percentage_error: 5570249728.0000\n",
      "Epoch 5/10\n",
      "3001/3001 [==============================] - 79s 26ms/step - loss: 394397504.0000 - binary_accuracy: 3.0282e-04 - mean_squared_error: 394397504.0000 - mean_absolute_percentage_error: 1780185472.0000\n",
      "Epoch 6/10\n",
      "3001/3001 [==============================] - 78s 26ms/step - loss: 394422496.0000 - binary_accuracy: 2.5220e-05 - mean_squared_error: 394422496.0000 - mean_absolute_percentage_error: 6489250816.0000\n",
      "Epoch 7/10\n",
      "3001/3001 [==============================] - 79s 26ms/step - loss: 394452128.0000 - binary_accuracy: 3.0282e-04 - mean_squared_error: 394452128.0000 - mean_absolute_percentage_error: 1771671424.0000\n",
      "Epoch 8/10\n",
      "3001/3001 [==============================] - 78s 26ms/step - loss: 394414656.0000 - binary_accuracy: 2.5220e-05 - mean_squared_error: 394414656.0000 - mean_absolute_percentage_error: 5264470016.0000\n",
      "Epoch 9/10\n",
      "3001/3001 [==============================] - 78s 26ms/step - loss: 394409664.0000 - binary_accuracy: 3.0282e-04 - mean_squared_error: 394409664.0000 - mean_absolute_percentage_error: 1743809280.0000\n",
      "Epoch 10/10\n",
      "3001/3001 [==============================] - 78s 26ms/step - loss: 394407136.0000 - binary_accuracy: 2.5057e-05 - mean_squared_error: 394407136.0000 - mean_absolute_percentage_error: 7010392064.0000\n"
     ]
    },
    {
     "name": "stderr",
     "output_type": "stream",
     "text": [
      " 20%|███████████▉                                               | 2000/9874 [01:53<07:26, 17.64it/s]"
     ]
    },
    {
     "name": "stdout",
     "output_type": "stream",
     "text": [
      "Epoch 1/10\n",
      "      1/Unknown - 0s 38ms/step - loss: 466558208.0000 - binary_accuracy: 0.0046 - mean_squared_error: 466558208.0000 - mean_absolute_percentage_error: 3767514955776.0000"
     ]
    },
    {
     "name": "stderr",
     "output_type": "stream",
     "text": [
      "\n"
     ]
    },
    {
     "name": "stdout",
     "output_type": "stream",
     "text": [
      "3001/3001 [==============================] - 79s 26ms/step - loss: 393866176.0000 - binary_accuracy: 3.0263e-04 - mean_squared_error: 393866176.0000 - mean_absolute_percentage_error: 1788872832.0000\n",
      "Epoch 2/10\n",
      "3001/3001 [==============================] - 78s 26ms/step - loss: 393592832.0000 - binary_accuracy: 2.4865e-05 - mean_squared_error: 393592832.0000 - mean_absolute_percentage_error: 7224186880.0000\n",
      "Epoch 3/10\n",
      "3001/3001 [==============================] - 79s 26ms/step - loss: 393215968.0000 - binary_accuracy: 3.0261e-04 - mean_squared_error: 393215968.0000 - mean_absolute_percentage_error: 1783909888.0000\n",
      "Epoch 4/10\n",
      "3001/3001 [==============================] - 78s 26ms/step - loss: 393133440.0000 - binary_accuracy: 2.4676e-05 - mean_squared_error: 393133440.0000 - mean_absolute_percentage_error: 2535004416.0000\n",
      "Epoch 5/10\n",
      "3001/3001 [==============================] - 78s 26ms/step - loss: 391747840.0000 - binary_accuracy: 2.4319e-05 - mean_squared_error: 391747840.0000 - mean_absolute_percentage_error: 8005387264.0000\n",
      "Epoch 6/10\n",
      "3001/3001 [==============================] - 78s 26ms/step - loss: 391396032.0000 - binary_accuracy: 3.0204e-04 - mean_squared_error: 391396032.0000 - mean_absolute_percentage_error: 1829668864.0000\n",
      "Epoch 7/10\n",
      "3001/3001 [==============================] - 79s 26ms/step - loss: 391403808.0000 - binary_accuracy: 2.4268e-05 - mean_squared_error: 391403808.0000 - mean_absolute_percentage_error: 7457464832.0000\n",
      "Epoch 8/10\n",
      "3001/3001 [==============================] - 78s 26ms/step - loss: 391387968.0000 - binary_accuracy: 3.0204e-04 - mean_squared_error: 391387968.0000 - mean_absolute_percentage_error: 1759498496.0000\n",
      "Epoch 9/10\n",
      "3001/3001 [==============================] - 78s 26ms/step - loss: 391320608.0000 - binary_accuracy: 3.0187e-04 - mean_squared_error: 391320608.0000 - mean_absolute_percentage_error: 1785957120.0000\n",
      "Epoch 10/10\n",
      "3001/3001 [==============================] - 79s 26ms/step - loss: 391068000.0000 - binary_accuracy: 2.4103e-05 - mean_squared_error: 391068000.0000 - mean_absolute_percentage_error: 6878953984.0000\n"
     ]
    },
    {
     "name": "stderr",
     "output_type": "stream",
     "text": [
      " 15%|████████▉                                                  | 1506/9874 [01:28<07:59, 17.45it/s]Exception ignored in: <function WeakKeyDictionary.__init__.<locals>.remove at 0x7f82046d2550>\n",
      "Traceback (most recent call last):\n",
      "  File \"/home/alex/miniconda3/envs/tf/lib/python3.9/weakref.py\", line 370, in remove\n",
      "    def remove(k, selfref=ref(self)):\n",
      "KeyboardInterrupt: \n",
      "\n",
      "KeyboardInterrupt\n",
      "\n"
     ]
    }
   ],
   "source": [
    "while loss >= 0.001:\n",
    "    step = step +1\n",
    "    log_dir = \"logs/fit/\" + datetime.datetime.now().strftime(\"%Y%m%d-%H%M%S\")\n",
    "    tensorboard_callback = tf.keras.callbacks.TensorBoard(log_dir=log_dir, histogram_freq=1)\n",
    "    fitHistory = model.fit(dataset, epochs=10, batch_size=32, callbacks=[tensorboard_callback])\n",
    "    model.save(f'model/{datetime.datetime.now().strftime(\"%Y%m%d-%H%M%S\")}', save_format=\"h5\")\n",
    "    \n",
    "    predict()\n",
    "    \n",
    "    loss = fitHistory.history['loss'][0]"
   ]
  },
  {
   "cell_type": "code",
   "execution_count": null,
   "metadata": {},
   "outputs": [
    {
     "name": "stderr",
     "output_type": "stream",
     "text": [
      " 15%|█████████                                                  | 1507/9874 [01:47<07:59, 17.45it/s]"
     ]
    }
   ],
   "source": [
    "%tensorboard --logdir logs/fit"
   ]
  },
  {
   "cell_type": "code",
   "execution_count": null,
   "metadata": {},
   "outputs": [],
   "source": []
  }
 ],
 "metadata": {
  "kernelspec": {
   "display_name": "Python 3 (ipykernel)",
   "language": "python",
   "name": "python3"
  },
  "language_info": {
   "codemirror_mode": {
    "name": "ipython",
    "version": 3
   },
   "file_extension": ".py",
   "mimetype": "text/x-python",
   "name": "python",
   "nbconvert_exporter": "python",
   "pygments_lexer": "ipython3",
   "version": "3.9.13"
  },
  "toc-autonumbering": true
 },
 "nbformat": 4,
 "nbformat_minor": 4
}
